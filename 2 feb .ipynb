{
 "cells": [
  {
   "cell_type": "markdown",
   "id": "add22603-d423-4b12-b79c-84f2264a4913",
   "metadata": {},
   "source": [
    "answer 1 "
   ]
  },
  {
   "cell_type": "code",
   "execution_count": 59,
   "id": "1d3624a8-392d-4ab6-a4da-9e11ad8adb4b",
   "metadata": {},
   "outputs": [
    {
     "name": "stdout",
     "output_type": "stream",
     "text": [
      "this is a example of for loop\n",
      "this is a example of for loop\n",
      "this is a example of for loop\n",
      "this is a example of for loop\n",
      "this is a example of for loop\n"
     ]
    }
   ],
   "source": [
    "# for loop \n",
    "\n",
    "l=[1,2,3,4,5]\n",
    "for i in l:\n",
    "    if i <= 6:\n",
    "        print('this is a example of for loop')"
   ]
  },
  {
   "cell_type": "code",
   "execution_count": 60,
   "id": "5f93a28e-fcc7-464b-b556-800dbced4729",
   "metadata": {},
   "outputs": [
    {
     "name": "stdout",
     "output_type": "stream",
     "text": [
      "example of while loop\n",
      "example of while loop\n",
      "example of while loop\n",
      "example of while loop\n",
      "example of while loop\n"
     ]
    }
   ],
   "source": [
    "# while loop\n",
    "\n",
    "n=1\n",
    "\n",
    "while n<= 5:\n",
    "    print(\"example of while loop\")\n",
    "    n=n+1\n"
   ]
  },
  {
   "cell_type": "markdown",
   "id": "bfc38bb4-a70a-4931-819c-6b3c6faaabd0",
   "metadata": {},
   "source": [
    "answer 2"
   ]
  },
  {
   "cell_type": "code",
   "execution_count": 61,
   "id": "1f3fa42c-dbc1-4276-a18f-9f98743b5fb1",
   "metadata": {},
   "outputs": [
    {
     "name": "stdout",
     "output_type": "stream",
     "text": [
      "55\n"
     ]
    }
   ],
   "source": [
    "# sum of first ten natural number using while loop\n",
    "natural_no = 1\n",
    "result=0\n",
    "\n",
    "while natural_no <=10:\n",
    "    result=result+natural_no\n",
    "    natural_no = natural_no +1\n",
    "    \n",
    "print(result)"
   ]
  },
  {
   "cell_type": "code",
   "execution_count": 62,
   "id": "b480b122-bef7-441b-83d4-48261210bbea",
   "metadata": {},
   "outputs": [
    {
     "name": "stdout",
     "output_type": "stream",
     "text": [
      "55\n"
     ]
    }
   ],
   "source": [
    "# sum of first ten natural number using for loop\n",
    "\n",
    "l=[1,2,3,4,5,6,7,8,9,10]\n",
    "n =0\n",
    "for i in l:\n",
    "    n=n+i\n",
    "    i=i+1\n",
    "print(n)\n"
   ]
  },
  {
   "cell_type": "code",
   "execution_count": 63,
   "id": "68f6266c-24ee-4171-bc2d-2d1b7a612bd4",
   "metadata": {},
   "outputs": [
    {
     "name": "stdout",
     "output_type": "stream",
     "text": [
      "3628800\n"
     ]
    }
   ],
   "source": [
    "#product of first ten natural number using while loop\n",
    "\n",
    "natural_no = 1\n",
    "result=1\n",
    "\n",
    "while natural_no <=10:\n",
    "    result=result*natural_no\n",
    "    natural_no = natural_no +1\n",
    "    \n",
    "print(result)"
   ]
  },
  {
   "cell_type": "code",
   "execution_count": 64,
   "id": "93a963c0-2983-42ad-bcb5-9b2d4a2b1d80",
   "metadata": {},
   "outputs": [
    {
     "name": "stdout",
     "output_type": "stream",
     "text": [
      "3628800\n"
     ]
    }
   ],
   "source": [
    "# product of first ten natural number using for loop\n",
    "\n",
    "l=[1,2,3,4,5,6,7,8,9,10]\n",
    "n =1\n",
    "for i in l:\n",
    "    n=n*i\n",
    "    i=i+1\n",
    "print(n)"
   ]
  },
  {
   "cell_type": "markdown",
   "id": "24bd9a0c-91bb-4bec-9b96-3db357324440",
   "metadata": {},
   "source": [
    "answer 3"
   ]
  },
  {
   "cell_type": "code",
   "execution_count": 66,
   "id": "204cfef9-be3c-4ecf-a6b9-93210498c2e4",
   "metadata": {},
   "outputs": [
    {
     "name": "stdin",
     "output_type": "stream",
     "text": [
      "Enter your electricity unit consumed in a month  310\n"
     ]
    },
    {
     "name": "stdout",
     "output_type": "stream",
     "text": [
      "electricity bill =  2250.0\n"
     ]
    }
   ],
   "source": [
    "unit_consume=int(input(\"Enter your electricity unit consumed in a month \"))\n",
    "amount=0\n",
    "\n",
    "while unit_consume>0:\n",
    "    if unit_consume <=100:\n",
    "        amount=amount+(unit_consume*4.5)\n",
    "        unit_consume=0\n",
    "    elif unit_consume<=200:\n",
    "        amount=amount+100*4.5\n",
    "        unit_consume=unit_consume-100\n",
    "        amount=amount+(unit_consume*6)\n",
    "        unit_consume=0\n",
    "    elif unit_consume<=300:\n",
    "        amount=amount+100*4.5\n",
    "        amount=amount+100*6\n",
    "        unit_consume=unit_consume-200\n",
    "        amount=amount+(unit_consume*10)\n",
    "        unit_consume=0\n",
    "    else:\n",
    "        amount=100*4.5\n",
    "        amount=amount+100*6\n",
    "        amount=amount+100*10\n",
    "        unit_consume=unit_consume-300\n",
    "        amount=amount+unit_consume*20\n",
    "        unit_consume=0\n",
    "        \n",
    "print( \"electricity bill = \" , amount)"
   ]
  },
  {
   "cell_type": "markdown",
   "id": "99c30d9e-9839-446d-92aa-2074b75aa1c1",
   "metadata": {},
   "source": [
    "answer 4 "
   ]
  },
  {
   "cell_type": "code",
   "execution_count": 80,
   "id": "ba4aba3b-1303-452a-9752-66f124d2f5b3",
   "metadata": {},
   "outputs": [
    {
     "name": "stdout",
     "output_type": "stream",
     "text": [
      "[125, 3375, 15625, 42875, 91125, 166375, 274625, 421875, 614125, 857375]\n"
     ]
    }
   ],
   "source": [
    "# using for loop\n",
    "l=[]\n",
    "k=[]\n",
    "for i in range(1,100):\n",
    "    i=i**3\n",
    "    l.append(i)\n",
    "for j in l:   \n",
    "    if j%4 and j%5 == 0:\n",
    "        k.append(j)      \n",
    "print(k)"
   ]
  },
  {
   "cell_type": "code",
   "execution_count": 81,
   "id": "c6e3374a-30f2-44f3-8eb7-79f0096610cd",
   "metadata": {},
   "outputs": [],
   "source": [
    "#using while loop\n",
    "l=[]\n",
    "k=[]\n",
    "\n",
    "n=1\n",
    "m=100\n",
    "\n",
    "while n<=m:\n",
    "    z=n**3\n",
    "    l.append(z)\n",
    "    n=n+1"
   ]
  },
  {
   "cell_type": "code",
   "execution_count": 90,
   "id": "3bf5df13-ee67-4c61-bf16-3866918f2be5",
   "metadata": {},
   "outputs": [
    {
     "name": "stdout",
     "output_type": "stream",
     "text": [
      "[1, 8, 27, 64, 125, 216, 343, 512, 729, 1000, 1331, 1728, 2197, 2744, 3375, 4096, 4913, 5832, 6859, 8000, 9261, 10648, 12167, 13824, 15625, 17576, 19683, 21952, 24389, 27000, 29791, 32768, 35937, 39304, 42875, 46656, 50653, 54872, 59319, 64000, 68921, 74088, 79507, 85184, 91125, 97336, 103823, 110592, 117649, 125000, 132651, 140608, 148877, 157464, 166375, 175616, 185193, 195112, 205379, 216000, 226981, 238328, 250047, 262144, 274625, 287496, 300763, 314432, 328509, 343000, 357911, 373248, 389017, 405224, 421875, 438976, 456533, 474552, 493039, 512000, 531441, 551368, 571787, 592704, 614125, 636056, 658503, 681472, 704969, 729000, 753571, 778688, 804357, 830584, 857375, 884736, 912673, 941192, 970299, 1000000]\n"
     ]
    }
   ],
   "source": [
    "print(l)"
   ]
  },
  {
   "cell_type": "code",
   "execution_count": 91,
   "id": "e59f899e-78c7-49a7-8ce2-cd957d3ae3aa",
   "metadata": {},
   "outputs": [],
   "source": [
    "if i%4 and i%5 == 0 in l:\n",
    "    k.append(i)    "
   ]
  },
  {
   "cell_type": "code",
   "execution_count": 92,
   "id": "7827a160-7445-498d-9d1d-74d0bca8a2a8",
   "metadata": {},
   "outputs": [
    {
     "name": "stdout",
     "output_type": "stream",
     "text": [
      "[]\n"
     ]
    }
   ],
   "source": [
    "print(k)"
   ]
  },
  {
   "cell_type": "markdown",
   "id": "99f55486-c184-4f82-b2a2-503eda6a31f0",
   "metadata": {},
   "source": [
    "answer 5"
   ]
  },
  {
   "cell_type": "code",
   "execution_count": 85,
   "id": "8358934b-d0a3-451c-b107-8684571d8dbc",
   "metadata": {},
   "outputs": [],
   "source": [
    "count=0\n",
    "string = \"i want to become a data scientist\"\n",
    "vowels=['a','e','i','o','u']\n",
    "for char in string:\n",
    "    if char.lower() in vowels:\n",
    "        count=count+1    "
   ]
  },
  {
   "cell_type": "code",
   "execution_count": 86,
   "id": "55d55f59-ddb9-45d5-92ed-f23ce0070648",
   "metadata": {},
   "outputs": [
    {
     "data": {
      "text/plain": [
       "12"
      ]
     },
     "execution_count": 86,
     "metadata": {},
     "output_type": "execute_result"
    }
   ],
   "source": [
    "count"
   ]
  },
  {
   "cell_type": "code",
   "execution_count": null,
   "id": "5c3990be-d4ec-44dc-9883-b812fad0bf21",
   "metadata": {},
   "outputs": [],
   "source": []
  },
  {
   "cell_type": "code",
   "execution_count": null,
   "id": "43c8bacb-8c92-4b6e-9b68-f1d543c014e3",
   "metadata": {},
   "outputs": [],
   "source": []
  }
 ],
 "metadata": {
  "kernelspec": {
   "display_name": "Python 3 (ipykernel)",
   "language": "python",
   "name": "python3"
  },
  "language_info": {
   "codemirror_mode": {
    "name": "ipython",
    "version": 3
   },
   "file_extension": ".py",
   "mimetype": "text/x-python",
   "name": "python",
   "nbconvert_exporter": "python",
   "pygments_lexer": "ipython3",
   "version": "3.10.8"
  }
 },
 "nbformat": 4,
 "nbformat_minor": 5
}

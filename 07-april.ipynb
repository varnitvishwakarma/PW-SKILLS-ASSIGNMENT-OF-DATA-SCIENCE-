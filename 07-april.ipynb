{
 "cells": [
  {
   "cell_type": "markdown",
   "id": "dd156a14-07b3-49d2-900d-9eaf7a84db7b",
   "metadata": {},
   "source": [
    "Q1. What is the relationship between polynomial functions and kernel functions in machine learning\n",
    "algorithms?\n"
   ]
  },
  {
   "cell_type": "markdown",
   "id": "4e1bf0ae-566d-43e5-9dcc-3ee78d54852b",
   "metadata": {},
   "source": [
    "polynomial functions are a mathematical foundation for modeling complex functions, while polynomial kernels in machine learning leverage the concept of polynomial functions to perform implicit transformations of data for non-linear classification and regression tasks using kernel-based algorithms. This theoretical relationship demonstrates how mathematical concepts can be applied to machine learning to handle non-linear relationships in data."
   ]
  },
  {
   "cell_type": "markdown",
   "id": "331122f4-b915-40a4-bac2-8d7046fc1576",
   "metadata": {},
   "source": [
    "Q2. How can we implement an SVM with a polynomial kernel in Python using Scikit-learn?\n"
   ]
  },
  {
   "cell_type": "code",
   "execution_count": 6,
   "id": "febdd7b5-a89e-472d-9cde-6fccb03c2679",
   "metadata": {},
   "outputs": [],
   "source": [
    "from sklearn.svm import SVC,SVR\n",
    "\n",
    "svc=SVC(kernel=\"poly\")\n",
    "svr=SVR(kernel=\"poly\")"
   ]
  },
  {
   "cell_type": "markdown",
   "id": "4e218fa6-ca0b-410a-95db-4527c6734bda",
   "metadata": {},
   "source": [
    "Q3. How does increasing the value of epsilon affect the number of support vectors in SVR?\n"
   ]
  },
  {
   "cell_type": "markdown",
   "id": "f2ed34eb-903a-4421-ab42-03126e795487",
   "metadata": {},
   "source": [
    "Here's how increasing the value of epsilon affects the number of support vectors in SVR:\n",
    "\n",
    "1. Smaller Epsilon (ε):\n",
    "   - When epsilon is set to a smaller value, the epsilon-insensitive tube becomes narrower.\n",
    "   - A narrower tube means that the model is less tolerant of errors, and it will try to fit the training data more closely.\n",
    "   - This can result in a larger number of support vectors because the model needs to consider more data points to fit the training data within the narrow margin.\n",
    "\n",
    "2. Larger Epsilon (ε):\n",
    "   - Conversely, when epsilon is set to a larger value, the epsilon-insensitive tube becomes wider.\n",
    "   - A wider tube means that the model is more tolerant of errors, allowing some data points to fall outside the tube without contributing to the loss.\n",
    "   - This can result in a smaller number of support vectors because the model is more lenient and does not need to consider as many data points to achieve a good fit.\n",
    "\n"
   ]
  },
  {
   "cell_type": "markdown",
   "id": "f259aec8-2f84-44f0-b0c7-2b0e899e3d57",
   "metadata": {},
   "source": [
    "Q4. How does the choice of kernel function, C parameter, epsilon parameter, and gamma parameter\n",
    "affect the performance of Support Vector Regression (SVR)? Can you explain how each parameter works\n",
    "and provide examples of when you might want to increase or decrease its value?\n"
   ]
  },
  {
   "cell_type": "code",
   "execution_count": null,
   "id": "ec3c58ab-5f16-49ee-a548-4caae1c74bae",
   "metadata": {},
   "outputs": [
    {
     "name": "stdout",
     "output_type": "stream",
     "text": [
      "Fitting 2 folds for each of 16 candidates, totalling 32 fits\n",
      "[CV 1/2] END C=1.0, degree=1, gamma=auto, kernel=poly;, score=0.338 total time=   0.2s\n",
      "[CV 2/2] END C=1.0, degree=1, gamma=auto, kernel=poly;, score=0.275 total time=   0.2s\n",
      "[CV 1/2] END C=1.0, degree=1, gamma=auto, kernel=rbf;, score=0.144 total time=   0.1s\n",
      "[CV 2/2] END C=1.0, degree=1, gamma=auto, kernel=rbf;, score=0.152 total time=   0.1s\n",
      "[CV 1/2] END C=1.0, degree=1, gamma=scale, kernel=poly;, score=0.084 total time=   0.0s\n",
      "[CV 2/2] END C=1.0, degree=1, gamma=scale, kernel=poly;, score=0.043 total time=   0.0s\n",
      "[CV 1/2] END C=1.0, degree=1, gamma=scale, kernel=rbf;, score=0.123 total time=   0.0s\n",
      "[CV 2/2] END C=1.0, degree=1, gamma=scale, kernel=rbf;, score=0.102 total time=   0.1s\n"
     ]
    }
   ],
   "source": [
    "from sklearn.model_selection import GridSearchCV, train_test_split\n",
    "from sklearn.svm import SVR\n",
    "import pandas as pd\n",
    "\n",
    "data = pd.read_csv(\"winequality-red.csv\")\n",
    "X = data.iloc[:, :-1]\n",
    "y = data[\"quality\"]\n",
    "\n",
    "X_train, X_test, y_train, y_test = train_test_split(X, y, test_size=0.30)\n",
    "svm = SVR()\n",
    "\n",
    "parameter = {\n",
    "    \"kernel\": ['poly', 'rbf'],  \n",
    "    \"degree\": [1, 2],  \n",
    "    \"gamma\": [\"auto\", \"scale\"],\n",
    "    \"C\": [1.0, 2.0]\n",
    "}\n",
    "\n",
    "GRID = GridSearchCV(svm, param_grid=parameter,refit=True,cv=2,verbose=3)\n",
    "GRID.fit(X_train, y_train)"
   ]
  },
  {
   "cell_type": "code",
   "execution_count": null,
   "id": "36d9b058-f60a-402a-9b7e-fe9739f3ea75",
   "metadata": {},
   "outputs": [],
   "source": [
    "GRID.best_params_"
   ]
  },
  {
   "cell_type": "markdown",
   "id": "0cc25d77-6493-444a-9af7-2ee105390237",
   "metadata": {},
   "source": [
    "Q5. Assignment:\n"
   ]
  },
  {
   "cell_type": "code",
   "execution_count": 1,
   "id": "8e56e60b-6a55-4d2b-bee9-2c4995c134c4",
   "metadata": {},
   "outputs": [],
   "source": [
    "#Import the necessary libraries and load the dataset\n",
    "\n",
    "import pandas as pd \n",
    "import numpy as np\n",
    "import seaborn as sns\n",
    "import matplotlib.pyplot as plt "
   ]
  },
  {
   "cell_type": "code",
   "execution_count": 5,
   "id": "c4c2cbf5-2da7-4099-9cff-48c8eb2fa77a",
   "metadata": {},
   "outputs": [],
   "source": [
    "#Split the dataset into training and testing setZ\n",
    "from sklearn.model_selection import  train_test_split\n",
    "data = pd.read_csv(\"winequality-red.csv\")\n",
    "X = data.iloc[:, :-1]\n",
    "y = data[\"quality\"]\n",
    "\n",
    "X_train, X_test, y_train, y_test = train_test_split(X, y, test_size=0.30)"
   ]
  },
  {
   "cell_type": "code",
   "execution_count": 29,
   "id": "0cc46753-29e4-49c5-82aa-ce3ea01dbb19",
   "metadata": {},
   "outputs": [],
   "source": [
    "#Preprocess the data using any technique of your choice (e.g. scaling, normaliMation)\n",
    "\n",
    "from sklearn.preprocessing import StandardScaler\n",
    "\n",
    "std=StandardScaler()\n",
    "std_train=std.fit_transform(X_train)\n",
    "std_test=std.fit_transform(X_test)"
   ]
  },
  {
   "cell_type": "code",
   "execution_count": 30,
   "id": "530d1645-9abe-456e-9ca5-c8df9f73ddcc",
   "metadata": {},
   "outputs": [
    {
     "data": {
      "text/html": [
       "<style>#sk-container-id-5 {color: black;background-color: white;}#sk-container-id-5 pre{padding: 0;}#sk-container-id-5 div.sk-toggleable {background-color: white;}#sk-container-id-5 label.sk-toggleable__label {cursor: pointer;display: block;width: 100%;margin-bottom: 0;padding: 0.3em;box-sizing: border-box;text-align: center;}#sk-container-id-5 label.sk-toggleable__label-arrow:before {content: \"▸\";float: left;margin-right: 0.25em;color: #696969;}#sk-container-id-5 label.sk-toggleable__label-arrow:hover:before {color: black;}#sk-container-id-5 div.sk-estimator:hover label.sk-toggleable__label-arrow:before {color: black;}#sk-container-id-5 div.sk-toggleable__content {max-height: 0;max-width: 0;overflow: hidden;text-align: left;background-color: #f0f8ff;}#sk-container-id-5 div.sk-toggleable__content pre {margin: 0.2em;color: black;border-radius: 0.25em;background-color: #f0f8ff;}#sk-container-id-5 input.sk-toggleable__control:checked~div.sk-toggleable__content {max-height: 200px;max-width: 100%;overflow: auto;}#sk-container-id-5 input.sk-toggleable__control:checked~label.sk-toggleable__label-arrow:before {content: \"▾\";}#sk-container-id-5 div.sk-estimator input.sk-toggleable__control:checked~label.sk-toggleable__label {background-color: #d4ebff;}#sk-container-id-5 div.sk-label input.sk-toggleable__control:checked~label.sk-toggleable__label {background-color: #d4ebff;}#sk-container-id-5 input.sk-hidden--visually {border: 0;clip: rect(1px 1px 1px 1px);clip: rect(1px, 1px, 1px, 1px);height: 1px;margin: -1px;overflow: hidden;padding: 0;position: absolute;width: 1px;}#sk-container-id-5 div.sk-estimator {font-family: monospace;background-color: #f0f8ff;border: 1px dotted black;border-radius: 0.25em;box-sizing: border-box;margin-bottom: 0.5em;}#sk-container-id-5 div.sk-estimator:hover {background-color: #d4ebff;}#sk-container-id-5 div.sk-parallel-item::after {content: \"\";width: 100%;border-bottom: 1px solid gray;flex-grow: 1;}#sk-container-id-5 div.sk-label:hover label.sk-toggleable__label {background-color: #d4ebff;}#sk-container-id-5 div.sk-serial::before {content: \"\";position: absolute;border-left: 1px solid gray;box-sizing: border-box;top: 0;bottom: 0;left: 50%;z-index: 0;}#sk-container-id-5 div.sk-serial {display: flex;flex-direction: column;align-items: center;background-color: white;padding-right: 0.2em;padding-left: 0.2em;position: relative;}#sk-container-id-5 div.sk-item {position: relative;z-index: 1;}#sk-container-id-5 div.sk-parallel {display: flex;align-items: stretch;justify-content: center;background-color: white;position: relative;}#sk-container-id-5 div.sk-item::before, #sk-container-id-5 div.sk-parallel-item::before {content: \"\";position: absolute;border-left: 1px solid gray;box-sizing: border-box;top: 0;bottom: 0;left: 50%;z-index: -1;}#sk-container-id-5 div.sk-parallel-item {display: flex;flex-direction: column;z-index: 1;position: relative;background-color: white;}#sk-container-id-5 div.sk-parallel-item:first-child::after {align-self: flex-end;width: 50%;}#sk-container-id-5 div.sk-parallel-item:last-child::after {align-self: flex-start;width: 50%;}#sk-container-id-5 div.sk-parallel-item:only-child::after {width: 0;}#sk-container-id-5 div.sk-dashed-wrapped {border: 1px dashed gray;margin: 0 0.4em 0.5em 0.4em;box-sizing: border-box;padding-bottom: 0.4em;background-color: white;}#sk-container-id-5 div.sk-label label {font-family: monospace;font-weight: bold;display: inline-block;line-height: 1.2em;}#sk-container-id-5 div.sk-label-container {text-align: center;}#sk-container-id-5 div.sk-container {/* jupyter's `normalize.less` sets `[hidden] { display: none; }` but bootstrap.min.css set `[hidden] { display: none !important; }` so we also need the `!important` here to be able to override the default hidden behavior on the sphinx rendered scikit-learn.org. See: https://github.com/scikit-learn/scikit-learn/issues/21755 */display: inline-block !important;position: relative;}#sk-container-id-5 div.sk-text-repr-fallback {display: none;}</style><div id=\"sk-container-id-5\" class=\"sk-top-container\"><div class=\"sk-text-repr-fallback\"><pre>SVC(kernel=&#x27;linear&#x27;)</pre><b>In a Jupyter environment, please rerun this cell to show the HTML representation or trust the notebook. <br />On GitHub, the HTML representation is unable to render, please try loading this page with nbviewer.org.</b></div><div class=\"sk-container\" hidden><div class=\"sk-item\"><div class=\"sk-estimator sk-toggleable\"><input class=\"sk-toggleable__control sk-hidden--visually\" id=\"sk-estimator-id-9\" type=\"checkbox\" checked><label for=\"sk-estimator-id-9\" class=\"sk-toggleable__label sk-toggleable__label-arrow\">SVC</label><div class=\"sk-toggleable__content\"><pre>SVC(kernel=&#x27;linear&#x27;)</pre></div></div></div></div></div>"
      ],
      "text/plain": [
       "SVC(kernel='linear')"
      ]
     },
     "execution_count": 30,
     "metadata": {},
     "output_type": "execute_result"
    }
   ],
   "source": [
    "# Create an instance of the SVC classifier and train it on the training data\n",
    "\n",
    "from sklearn.svm import SVC\n",
    "\n",
    "svc=SVC(kernel=\"linear\")\n",
    "\n",
    "svc.fit(std_train,y_train)"
   ]
  },
  {
   "cell_type": "code",
   "execution_count": 31,
   "id": "d9fc81b8-5a83-4f28-83d9-feeb28173276",
   "metadata": {},
   "outputs": [
    {
     "name": "stderr",
     "output_type": "stream",
     "text": [
      "/opt/conda/lib/python3.10/site-packages/sklearn/base.py:402: UserWarning: X has feature names, but SVC was fitted without feature names\n",
      "  warnings.warn(\n"
     ]
    }
   ],
   "source": [
    "#use the trained classifier to predict the labels of the testing data\n",
    "\n",
    "y=svc.predict(X_test)"
   ]
  },
  {
   "cell_type": "code",
   "execution_count": 32,
   "id": "fb8b0abe-ae6a-4e7d-a13b-e1cd828cbd66",
   "metadata": {},
   "outputs": [
    {
     "name": "stdout",
     "output_type": "stream",
     "text": [
      "0.5166666666666667\n"
     ]
    }
   ],
   "source": [
    "#Evaluate the performance of the classifier using any metric of your choice (e.g. accuracy,precision, recall, F1-score)\n",
    "\n",
    "from sklearn.metrics import accuracy_score\n",
    "print(accuracy_score(y,y_test))"
   ]
  },
  {
   "cell_type": "code",
   "execution_count": 33,
   "id": "5b0e2d5e-54ef-42b7-b3bf-e546c4f9899c",
   "metadata": {},
   "outputs": [],
   "source": [
    "#Tune the hyperparameters of the SVC classifier using GridSearchCV or RandomiMedSearchCV to improve its performance\n",
    "from sklearn.model_selection import GridSearchCV\n",
    "\n",
    "parameter = {\n",
    "    \"kernel\": ['linear', 'poly', 'rbf', 'sigmoid'],  \n",
    "    \"degree\": [1, 2],  \n",
    "    \"gamma\": [\"auto\", \"scale\"]\n",
    "}\n"
   ]
  },
  {
   "cell_type": "code",
   "execution_count": 34,
   "id": "5e5e7d56-f4ac-427f-aaae-6e93b7bef29f",
   "metadata": {},
   "outputs": [
    {
     "name": "stdout",
     "output_type": "stream",
     "text": [
      "Fitting 2 folds for each of 16 candidates, totalling 32 fits\n",
      "[CV 1/2] END degree=1, gamma=auto, kernel=linear;, score=0.588 total time=   0.0s\n",
      "[CV 2/2] END degree=1, gamma=auto, kernel=linear;, score=0.597 total time=   0.0s\n",
      "[CV 1/2] END .degree=1, gamma=auto, kernel=poly;, score=0.584 total time=   0.0s\n",
      "[CV 2/2] END .degree=1, gamma=auto, kernel=poly;, score=0.590 total time=   0.0s\n",
      "[CV 1/2] END ..degree=1, gamma=auto, kernel=rbf;, score=0.607 total time=   0.1s\n",
      "[CV 2/2] END ..degree=1, gamma=auto, kernel=rbf;, score=0.610 total time=   0.1s\n",
      "[CV 1/2] END degree=1, gamma=auto, kernel=sigmoid;, score=0.541 total time=   0.1s\n",
      "[CV 2/2] END degree=1, gamma=auto, kernel=sigmoid;, score=0.569 total time=   0.1s\n",
      "[CV 1/2] END degree=1, gamma=scale, kernel=linear;, score=0.588 total time=   0.0s\n",
      "[CV 2/2] END degree=1, gamma=scale, kernel=linear;, score=0.597 total time=   0.0s\n",
      "[CV 1/2] END degree=1, gamma=scale, kernel=poly;, score=0.586 total time=   0.0s\n",
      "[CV 2/2] END degree=1, gamma=scale, kernel=poly;, score=0.590 total time=   0.0s\n",
      "[CV 1/2] END .degree=1, gamma=scale, kernel=rbf;, score=0.607 total time=   0.1s\n",
      "[CV 2/2] END .degree=1, gamma=scale, kernel=rbf;, score=0.608 total time=   0.1s\n",
      "[CV 1/2] END degree=1, gamma=scale, kernel=sigmoid;, score=0.539 total time=   0.1s\n",
      "[CV 2/2] END degree=1, gamma=scale, kernel=sigmoid;, score=0.574 total time=   0.1s\n",
      "[CV 1/2] END degree=2, gamma=auto, kernel=linear;, score=0.588 total time=   0.0s\n",
      "[CV 2/2] END degree=2, gamma=auto, kernel=linear;, score=0.597 total time=   0.0s\n",
      "[CV 1/2] END .degree=2, gamma=auto, kernel=poly;, score=0.512 total time=   0.0s\n",
      "[CV 2/2] END .degree=2, gamma=auto, kernel=poly;, score=0.535 total time=   0.0s\n",
      "[CV 1/2] END ..degree=2, gamma=auto, kernel=rbf;, score=0.607 total time=   0.1s\n",
      "[CV 2/2] END ..degree=2, gamma=auto, kernel=rbf;, score=0.610 total time=   0.1s\n",
      "[CV 1/2] END degree=2, gamma=auto, kernel=sigmoid;, score=0.541 total time=   0.1s\n",
      "[CV 2/2] END degree=2, gamma=auto, kernel=sigmoid;, score=0.569 total time=   0.1s\n",
      "[CV 1/2] END degree=2, gamma=scale, kernel=linear;, score=0.588 total time=   0.0s\n",
      "[CV 2/2] END degree=2, gamma=scale, kernel=linear;, score=0.597 total time=   0.0s\n",
      "[CV 1/2] END degree=2, gamma=scale, kernel=poly;, score=0.512 total time=   0.0s\n",
      "[CV 2/2] END degree=2, gamma=scale, kernel=poly;, score=0.531 total time=   0.0s\n",
      "[CV 1/2] END .degree=2, gamma=scale, kernel=rbf;, score=0.607 total time=   0.1s\n",
      "[CV 2/2] END .degree=2, gamma=scale, kernel=rbf;, score=0.608 total time=   0.1s\n",
      "[CV 1/2] END degree=2, gamma=scale, kernel=sigmoid;, score=0.539 total time=   0.1s\n",
      "[CV 2/2] END degree=2, gamma=scale, kernel=sigmoid;, score=0.574 total time=   0.1s\n"
     ]
    },
    {
     "data": {
      "text/html": [
       "<style>#sk-container-id-6 {color: black;background-color: white;}#sk-container-id-6 pre{padding: 0;}#sk-container-id-6 div.sk-toggleable {background-color: white;}#sk-container-id-6 label.sk-toggleable__label {cursor: pointer;display: block;width: 100%;margin-bottom: 0;padding: 0.3em;box-sizing: border-box;text-align: center;}#sk-container-id-6 label.sk-toggleable__label-arrow:before {content: \"▸\";float: left;margin-right: 0.25em;color: #696969;}#sk-container-id-6 label.sk-toggleable__label-arrow:hover:before {color: black;}#sk-container-id-6 div.sk-estimator:hover label.sk-toggleable__label-arrow:before {color: black;}#sk-container-id-6 div.sk-toggleable__content {max-height: 0;max-width: 0;overflow: hidden;text-align: left;background-color: #f0f8ff;}#sk-container-id-6 div.sk-toggleable__content pre {margin: 0.2em;color: black;border-radius: 0.25em;background-color: #f0f8ff;}#sk-container-id-6 input.sk-toggleable__control:checked~div.sk-toggleable__content {max-height: 200px;max-width: 100%;overflow: auto;}#sk-container-id-6 input.sk-toggleable__control:checked~label.sk-toggleable__label-arrow:before {content: \"▾\";}#sk-container-id-6 div.sk-estimator input.sk-toggleable__control:checked~label.sk-toggleable__label {background-color: #d4ebff;}#sk-container-id-6 div.sk-label input.sk-toggleable__control:checked~label.sk-toggleable__label {background-color: #d4ebff;}#sk-container-id-6 input.sk-hidden--visually {border: 0;clip: rect(1px 1px 1px 1px);clip: rect(1px, 1px, 1px, 1px);height: 1px;margin: -1px;overflow: hidden;padding: 0;position: absolute;width: 1px;}#sk-container-id-6 div.sk-estimator {font-family: monospace;background-color: #f0f8ff;border: 1px dotted black;border-radius: 0.25em;box-sizing: border-box;margin-bottom: 0.5em;}#sk-container-id-6 div.sk-estimator:hover {background-color: #d4ebff;}#sk-container-id-6 div.sk-parallel-item::after {content: \"\";width: 100%;border-bottom: 1px solid gray;flex-grow: 1;}#sk-container-id-6 div.sk-label:hover label.sk-toggleable__label {background-color: #d4ebff;}#sk-container-id-6 div.sk-serial::before {content: \"\";position: absolute;border-left: 1px solid gray;box-sizing: border-box;top: 0;bottom: 0;left: 50%;z-index: 0;}#sk-container-id-6 div.sk-serial {display: flex;flex-direction: column;align-items: center;background-color: white;padding-right: 0.2em;padding-left: 0.2em;position: relative;}#sk-container-id-6 div.sk-item {position: relative;z-index: 1;}#sk-container-id-6 div.sk-parallel {display: flex;align-items: stretch;justify-content: center;background-color: white;position: relative;}#sk-container-id-6 div.sk-item::before, #sk-container-id-6 div.sk-parallel-item::before {content: \"\";position: absolute;border-left: 1px solid gray;box-sizing: border-box;top: 0;bottom: 0;left: 50%;z-index: -1;}#sk-container-id-6 div.sk-parallel-item {display: flex;flex-direction: column;z-index: 1;position: relative;background-color: white;}#sk-container-id-6 div.sk-parallel-item:first-child::after {align-self: flex-end;width: 50%;}#sk-container-id-6 div.sk-parallel-item:last-child::after {align-self: flex-start;width: 50%;}#sk-container-id-6 div.sk-parallel-item:only-child::after {width: 0;}#sk-container-id-6 div.sk-dashed-wrapped {border: 1px dashed gray;margin: 0 0.4em 0.5em 0.4em;box-sizing: border-box;padding-bottom: 0.4em;background-color: white;}#sk-container-id-6 div.sk-label label {font-family: monospace;font-weight: bold;display: inline-block;line-height: 1.2em;}#sk-container-id-6 div.sk-label-container {text-align: center;}#sk-container-id-6 div.sk-container {/* jupyter's `normalize.less` sets `[hidden] { display: none; }` but bootstrap.min.css set `[hidden] { display: none !important; }` so we also need the `!important` here to be able to override the default hidden behavior on the sphinx rendered scikit-learn.org. See: https://github.com/scikit-learn/scikit-learn/issues/21755 */display: inline-block !important;position: relative;}#sk-container-id-6 div.sk-text-repr-fallback {display: none;}</style><div id=\"sk-container-id-6\" class=\"sk-top-container\"><div class=\"sk-text-repr-fallback\"><pre>GridSearchCV(cv=2, estimator=SVC(kernel=&#x27;linear&#x27;),\n",
       "             param_grid={&#x27;degree&#x27;: [1, 2], &#x27;gamma&#x27;: [&#x27;auto&#x27;, &#x27;scale&#x27;],\n",
       "                         &#x27;kernel&#x27;: [&#x27;linear&#x27;, &#x27;poly&#x27;, &#x27;rbf&#x27;, &#x27;sigmoid&#x27;]},\n",
       "             verbose=3)</pre><b>In a Jupyter environment, please rerun this cell to show the HTML representation or trust the notebook. <br />On GitHub, the HTML representation is unable to render, please try loading this page with nbviewer.org.</b></div><div class=\"sk-container\" hidden><div class=\"sk-item sk-dashed-wrapped\"><div class=\"sk-label-container\"><div class=\"sk-label sk-toggleable\"><input class=\"sk-toggleable__control sk-hidden--visually\" id=\"sk-estimator-id-10\" type=\"checkbox\" ><label for=\"sk-estimator-id-10\" class=\"sk-toggleable__label sk-toggleable__label-arrow\">GridSearchCV</label><div class=\"sk-toggleable__content\"><pre>GridSearchCV(cv=2, estimator=SVC(kernel=&#x27;linear&#x27;),\n",
       "             param_grid={&#x27;degree&#x27;: [1, 2], &#x27;gamma&#x27;: [&#x27;auto&#x27;, &#x27;scale&#x27;],\n",
       "                         &#x27;kernel&#x27;: [&#x27;linear&#x27;, &#x27;poly&#x27;, &#x27;rbf&#x27;, &#x27;sigmoid&#x27;]},\n",
       "             verbose=3)</pre></div></div></div><div class=\"sk-parallel\"><div class=\"sk-parallel-item\"><div class=\"sk-item\"><div class=\"sk-label-container\"><div class=\"sk-label sk-toggleable\"><input class=\"sk-toggleable__control sk-hidden--visually\" id=\"sk-estimator-id-11\" type=\"checkbox\" ><label for=\"sk-estimator-id-11\" class=\"sk-toggleable__label sk-toggleable__label-arrow\">estimator: SVC</label><div class=\"sk-toggleable__content\"><pre>SVC(kernel=&#x27;linear&#x27;)</pre></div></div></div><div class=\"sk-serial\"><div class=\"sk-item\"><div class=\"sk-estimator sk-toggleable\"><input class=\"sk-toggleable__control sk-hidden--visually\" id=\"sk-estimator-id-12\" type=\"checkbox\" ><label for=\"sk-estimator-id-12\" class=\"sk-toggleable__label sk-toggleable__label-arrow\">SVC</label><div class=\"sk-toggleable__content\"><pre>SVC(kernel=&#x27;linear&#x27;)</pre></div></div></div></div></div></div></div></div></div></div>"
      ],
      "text/plain": [
       "GridSearchCV(cv=2, estimator=SVC(kernel='linear'),\n",
       "             param_grid={'degree': [1, 2], 'gamma': ['auto', 'scale'],\n",
       "                         'kernel': ['linear', 'poly', 'rbf', 'sigmoid']},\n",
       "             verbose=3)"
      ]
     },
     "execution_count": 34,
     "metadata": {},
     "output_type": "execute_result"
    }
   ],
   "source": [
    "GRID = GridSearchCV(svc, param_grid=parameter,refit=True,cv=2,verbose=3)\n",
    "GRID.fit(std_train, y_train)"
   ]
  },
  {
   "cell_type": "code",
   "execution_count": 36,
   "id": "c533090b-544f-45a9-af6f-562f8158f578",
   "metadata": {},
   "outputs": [],
   "source": [
    "y=GRID.predict(std_test)"
   ]
  },
  {
   "cell_type": "markdown",
   "id": "35425427-a548-44fc-b4bb-bfc33124974d",
   "metadata": {},
   "source": [
    "accucary after hyperparameter"
   ]
  },
  {
   "cell_type": "code",
   "execution_count": 37,
   "id": "8f9508f5-ebeb-419b-be76-c3bfce02247f",
   "metadata": {},
   "outputs": [
    {
     "data": {
      "text/plain": [
       "0.6166666666666667"
      ]
     },
     "execution_count": 37,
     "metadata": {},
     "output_type": "execute_result"
    }
   ],
   "source": [
    "accuracy_score(y,y_test)"
   ]
  },
  {
   "cell_type": "code",
   "execution_count": null,
   "id": "27431572-007d-43b5-b5e5-dea7a3539887",
   "metadata": {},
   "outputs": [],
   "source": []
  }
 ],
 "metadata": {
  "kernelspec": {
   "display_name": "Python 3 (ipykernel)",
   "language": "python",
   "name": "python3"
  },
  "language_info": {
   "codemirror_mode": {
    "name": "ipython",
    "version": 3
   },
   "file_extension": ".py",
   "mimetype": "text/x-python",
   "name": "python",
   "nbconvert_exporter": "python",
   "pygments_lexer": "ipython3",
   "version": "3.10.8"
  }
 },
 "nbformat": 4,
 "nbformat_minor": 5
}

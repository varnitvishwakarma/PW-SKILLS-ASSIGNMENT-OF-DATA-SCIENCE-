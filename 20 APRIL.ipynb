{
 "cells": [
  {
   "cell_type": "markdown",
   "id": "55a2bb45-c8c4-4032-b679-53c14383cc8f",
   "metadata": {},
   "source": [
    "## 20 APRIL"
   ]
  },
  {
   "cell_type": "markdown",
   "id": "dc87a96e-61b7-4720-9894-df367df15094",
   "metadata": {},
   "source": [
    "\n",
    "\n",
    "Q1. What is the KNN algorithm?\n",
    "\n",
    "\n",
    "    Knearest neighbors (KNN) is a supervised machine learning algorithm used for classification and regression tasks. It assigns a label or predicts a value for a data point based on the majority class or average of the values among its K nearest neighbors in the feature space.\n",
    "\n",
    "Q2. How do you choose the value of K in KNN?\n",
    "\n",
    "\n",
    "    The choice of K in KNN depends on the specific problem and dataset. Common methods include using crossvalidation to find the optimal K value, considering odd values to avoid ties, and avoiding very small or very large K values.\n",
    "\n",
    "Q3. What is the difference between KNN classifier and KNN regressor?\n",
    "\n",
    "\n",
    "    KNN classifier is used for classification tasks, predicting class labels. KNN regressor is used for regression tasks, predicting continuous values. The primary difference is in the output type—classes for classification and numerical values for regression.\n",
    "\n",
    "Q4. How do you measure the performance of KNN?\n",
    "\n",
    "\n",
    "    Common performance metrics for KNN include accuracy, precision, recall, F1score for classification, and mean squared error (MSE), Rsquared for regression.\n",
    "\n",
    "Q5. What is the curse of dimensionality in KNN?\n",
    "\n",
    "\n",
    "    The curse of dimensionality refers to the challenge of working with highdimensional data in KNN. As the number of features increases, the feature space becomes increasingly sparse, and KNN may become less effective due to a higher computational cost and reduced ability to find meaningful neighbors.\n",
    "\n",
    "Q6. How do you handle missing values in KNN?\n",
    "\n",
    "\n",
    "    Missing values can be handled in KNN by imputing them with suitable values (e.g., mean, median) or by considering them during distance calculation by using specialized distance metrics.\n",
    "\n",
    "Q7. Compare and contrast the performance of the KNN classifier and regressor. Which one is better for which type of problem?\n",
    "\n",
    "\n",
    "    KNN classifier is better for classification problems, while KNN regressor is suitable for regression problems. The choice depends on the nature of the target variable: categorical for classification and continuous for regression.\n",
    "\n",
    "Q8. What are the strengths and weaknesses of the KNN algorithm for classification and regression tasks, and how can these be addressed?\n",
    "\n",
    "\n",
    "    Strengths: Simple, interpretable, nonparametric. Weaknesses: Sensitive to noise, high computation in large datasets. Address by proper preprocessing, feature selection, or using dimensionality reduction techniques.\n",
    "\n",
    "Q9. What is the difference between Euclidean distance and Manhattan distance in KNN?\n",
    "\n",
    "\n",
    "    Euclidean distance measures the straightline distance between two points, while Manhattan distance calculates the distance by summing the absolute differences along each dimension. Manhattan is more robust to outliers.\n",
    "\n",
    "Q10. What is the role of feature scaling in KNN?\n",
    "\n",
    "\n",
    "     Feature scaling is crucial in KNN as it ensures that all features contribute equally to the distance calculation. Without scaling, features with larger ranges or magnitudes may dominate the distance metric, leading to biased results. Common scaling methods include MinMax scaling or Zscore normalization.\n",
    "\n"
   ]
  }
 ],
 "metadata": {
  "kernelspec": {
   "display_name": "Python 3 (ipykernel)",
   "language": "python",
   "name": "python3"
  },
  "language_info": {
   "codemirror_mode": {
    "name": "ipython",
    "version": 3
   },
   "file_extension": ".py",
   "mimetype": "text/x-python",
   "name": "python",
   "nbconvert_exporter": "python",
   "pygments_lexer": "ipython3",
   "version": "3.10.8"
  }
 },
 "nbformat": 4,
 "nbformat_minor": 5
}

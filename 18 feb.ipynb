{
 "cells": [
  {
   "cell_type": "markdown",
   "id": "037db25e-697c-451e-be41-2af3f76c323d",
   "metadata": {},
   "source": [
    "Q1. What is an API? Give an example, where an API is used in real life."
   ]
  },
  {
   "cell_type": "raw",
   "id": "7c08c85a-e272-4672-acc4-e3936774ef2b",
   "metadata": {},
   "source": [
    "APIs are used in web applications to connect user-facing front ends with critical back-end functionality and data.\n",
    "example :-\n",
    ">APIs are used to deliver material by streaming services such as Spotify and Netflix\n",
    "\n",
    "real life example :-\n",
    "\n",
    ">Private APIs are used by financial organizations such as banks to track and manage checking accounts, credit cards, and other accounts"
   ]
  },
  {
   "cell_type": "markdown",
   "id": "3bc8aa65-5b61-4a5a-8eb3-72f8bb3ae0a2",
   "metadata": {},
   "source": [
    "Q2. Give advantages and disadvantages of using API"
   ]
  },
  {
   "cell_type": "raw",
   "id": "5f21705f-90e4-41e2-a091-830da7d6aa2f",
   "metadata": {},
   "source": [
    "Advantages:-\n",
    "\n",
    ">Personalized Content: API enables businesses to get a clear understanding of the tastes and preferences of the customer. This allows businesses to make personalized recommendations and generate better customer leads and interactions.\n",
    "\n",
    ">Automation: One no longer needs to make assumptions and interpretations manually. API does it all for you by managing all the workflow making business processes more productive and efficient.\n",
    "\n",
    ">Fraud Prevention: API has various levels of security depending upon the type of API that you use which ensures that only authorized personnel have access to the data generated using API.\n",
    "\n",
    ">Improved Competency: The information that is transmitted from one system to another is quickly intercepted and interpreted by API. This level of efficiency ensures information automatically available to every platform which leads to quicker and improved decision making.\n",
    "\n",
    ">Adaptability: API can anticipate changes in terms of needs that arise in the due course of business. It used the technology at its disposal to analyze the information present within the system more closely and thus makes the service provisions more flexible.\n",
    "\n",
    "\n",
    "disadvantges:-\n",
    "\n",
    "> Initial cost - It is more costly to build and maintain APIs over time. This was also true when introducing the idea of SOA over point to point integrations.\n",
    "\n",
    "> Potentially different mindset - Culture eats all. Changing gears to think in a API led way takes time and effort.\n",
    "\n",
    "> Loss of control - If your previous model was based around a strong ICC the idea of API led connectivity might scare some since they lose the control over integrations and how APIs are used.\n",
    "\n",
    "> Security - Often API led connectivity also means you open up your APIs for a larger group than you have done before. Either within your organisation, with partners or even publicly. You need to consider the impact.\n",
    "\n",
    "> Higher demands on life-cycle management - If you open up APIs for a larger group than before you need to consider how changes or removal of APIs are handled and communicated with the users and developers.\n"
   ]
  },
  {
   "cell_type": "markdown",
   "id": "b06d2cfc-b314-400f-ba33-2bc62cfa5f9f",
   "metadata": {},
   "source": [
    "Q3. What is a Web API? Differentiate between API and Web API."
   ]
  },
  {
   "cell_type": "raw",
   "id": "946e4e38-c047-43a1-a8f7-939ac2ad7d9e",
   "metadata": {},
   "source": [
    "Web API is an API as the name suggests, it can be accessed over the web using the HTTP protocol. It is a framework that helps you to create and develop HTTP based RESTFUL services. The web API can be developed by using different technologies such as java, ASP.NET, etc. Web API is used in either a web server or a web browser. Basically Web API is a web development concept. It is limited to Web Application’s client-side and also it does not include a web server or web browser details. If an application is to be used on a distributed system and to provide services on different devices like laptops, mobiles, etc then web API services are used. Web API is the enhanced form of the web application\n",
    "\n",
    "difference between API and WEB API :-\n",
    "\n",
    "          WEB API                                                     API\n",
    "\n",
    "\n",
    "All web services are APIs                              \tAll APIs are not web services.\n",
    "\n",
    "\t                                        \n",
    "It supports XML                                         Responses are formatted using Web                                                        API’s MediaTypeFormatter into XML,                                                        JSON, or any other given format.\n",
    "\n",
    "\n",
    "You need a SOAP protocol to send                     API has a light-weight architecture.\n",
    "or receive and data over the network.\n",
    "Therefore it does not have light-weight\n",
    "architecture.\t\n",
    "                                                \n",
    "It can be used by any client who understands XML\t      It can be used by a client who                                                            understands JSON or XML.\n",
    "\n",
    "                                             \n",
    "Web service uses three styles: REST\n",
    ", SOAP, and XML-RPC for communication.\t                 API can be used for any style of                                                            communication.\n",
    "\n",
    "\n",
    "It provides supports only for the HTTP                      It provides support for the \n",
    "protocol\t                                                 HTTP/s protocol: URL                                                                    Request/Response Headers, etc.\n"
   ]
  },
  {
   "cell_type": "markdown",
   "id": "f24ce0f2-d680-4ce1-8b99-ebe1181afec1",
   "metadata": {},
   "source": [
    " Q4. Explain REST and SOAP Architecture. Mention shortcomings of SOAP."
   ]
  },
  {
   "cell_type": "raw",
   "id": "422c9cc1-0e92-4476-bb4a-251596a0a6a0",
   "metadata": {},
   "source": [
    "REST :- \n",
    "The Representational State Transfer (REST) architectural style is a worldview that elevates information into a first-class element of architectures. REST allows us to achieve the architectural properties of performance, scalability, generality, simplicity, modifiability, and extensibility.\n",
    "\n",
    "SOAP :-\n",
    "The Representational State Transfer (REST) architectural style is a worldview that elevates information into a first-class element of architectures. REST allows us to achieve the architectural properties of performance, scalability, generality, simplicity, modifiability, and extensibility.\n",
    "\n",
    "\n",
    "SHORTCOMINGS OD SOAP :-\n",
    "\n",
    "SOAP is used only XML format data in web service, whereas JSON and other lightweight formats are not supported by it. It is slow because it uses XML format, whereas the payload for a simple string message is large. There are no security features in the SOAP specification.\n",
    "\n",
    "\n"
   ]
  },
  {
   "cell_type": "markdown",
   "id": "96e05715-cbdd-4685-a6a1-b96f3ba7a725",
   "metadata": {},
   "source": [
    "Q5. Differentiate between REST and SOAP."
   ]
  },
  {
   "cell_type": "raw",
   "id": "6335e9fb-0072-4b51-8126-66c41066e458",
   "metadata": {},
   "source": [
    "REST :-\n",
    "\n",
    ">SOAP stands for Simple Object Access Protocol\n",
    "\n",
    ">SOAP is a protocol. SOAP was designed with a specification. It includes a WSDL file which has the required information on what the web service does in addition to the location of the web service\n",
    "\n",
    ">SOAP cannot make use of REST since SOAP is a protocol and REST is an architectural pattern\n",
    "\n",
    ">SOAP requires more bandwidth for its usage. Since SOAP Messages contain a lot of information inside of it, the amount of data transfer using SOAP is generally a lot.\n",
    "\n",
    ">SOAP can only work with XML format. As seen from SOAP messages, all data passed is in XML format\n",
    "\n",
    "SOAP:-\n",
    "\n",
    ">REST stands for Representational State Transfer\n",
    "\n",
    ">REST is an Architectural style in which a web service can only be treated as a RESTful service if it follows the constraints of being\n",
    "\n",
    "1).Client Server\n",
    "2).Stateless\n",
    "3).Cacheable\n",
    "4).Layered System\n",
    "5).Uniform Interface\n",
    "\n",
    ">REST can make use of SOAP as the underlying protocol for web services, because in the end it is just an architectural pattern.\n",
    "\n",
    ">REST use Uniform Service locators to access to the components on the hardware device. For example, if there is an object which represents the data of an employee hosted on a URL as http://demo.guru99 , the below are some of URI that can exist to access them.\n",
    "\n",
    ">REST does not need much bandwidth when requests are sent to the server. REST messages mostly just consist of JSON messages. Below is an example of a JSON message passed to a web server. You can see that the size of the message is comparatively smaller to SOAP.\n",
    "\n",
    ">REST permits different data format such as Plain text, HTML, XML, JSON, etc. But the most preferred format for transferring data is JSON.\n"
   ]
  }
 ],
 "metadata": {
  "kernelspec": {
   "display_name": "Python 3 (ipykernel)",
   "language": "python",
   "name": "python3"
  },
  "language_info": {
   "codemirror_mode": {
    "name": "ipython",
    "version": 3
   },
   "file_extension": ".py",
   "mimetype": "text/x-python",
   "name": "python",
   "nbconvert_exporter": "python",
   "pygments_lexer": "ipython3",
   "version": "3.10.8"
  }
 },
 "nbformat": 4,
 "nbformat_minor": 5
}

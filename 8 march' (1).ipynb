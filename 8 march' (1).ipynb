{
 "cells": [
  {
   "cell_type": "markdown",
   "id": "584787f3-e18a-4581-9059-8ec2cee50a5b",
   "metadata": {},
   "source": [
    "Q1. What is the Probability density function?"
   ]
  },
  {
   "cell_type": "raw",
   "id": "ea8cfc08-6ec1-4543-98dd-d2a9d47cce80",
   "metadata": {},
   "source": [
    "The Probability Density Function (PDF) describes the likelihood of a continuous random variable taking on a specific value or falling within a certain range."
   ]
  },
  {
   "cell_type": "markdown",
   "id": "75c51e30-f64c-47b0-89c7-20138fed6faf",
   "metadata": {},
   "source": [
    "Q2. What are the types of Probability distribution?"
   ]
  },
  {
   "cell_type": "raw",
   "id": "97dfe893-d1f1-49ff-a1b4-0444923b6763",
   "metadata": {},
   "source": [
    "Types of probability distribution \n",
    "\n",
    "1 normal/gaussian distribution\n",
    "2 bernoulli distribution\n",
    "3 uniform distribution\n",
    "4 poisson distribution\n",
    "5 log normal distribution\n",
    "6 binomial distribution"
   ]
  },
  {
   "cell_type": "markdown",
   "id": "94ab5cbc-c7ed-465e-9d19-5052956c65fd",
   "metadata": {},
   "source": [
    "Q3. Write a Python function to calculate the probability density function of a normal distribution with\n",
    "given mean and standard deviation at a given point."
   ]
  },
  {
   "cell_type": "code",
   "execution_count": 1,
   "id": "8db99ab5-9323-45aa-a9c2-d8ce3226b8aa",
   "metadata": {},
   "outputs": [
    {
     "name": "stdout",
     "output_type": "stream",
     "text": [
      "0.12951759566589174\n"
     ]
    }
   ],
   "source": [
    "import math\n",
    "\n",
    "def normal_pdf(x, mean, std_dev):\n",
    "    coefficient = 1 / (std_dev * math.sqrt(2 * math.pi))\n",
    "    exponent = -((x - mean) ** 2) / (2 * (std_dev ** 2))\n",
    "    pdf = coefficient * math.exp(exponent)\n",
    "    return pdf\n",
    "mean = 0\n",
    "std_dev = 1\n",
    "x = 1.5\n",
    "\n",
    "pdf_value = normal_pdf(x, mean, std_dev)\n",
    "print(pdf_value)\n"
   ]
  },
  {
   "cell_type": "markdown",
   "id": "59585a53-3938-4ee5-a8f8-b07a3039a39d",
   "metadata": {},
   "source": [
    "Q4. What are the properties of Binomial distribution? Give two examples of events where binomial\n",
    "distribution can be applied."
   ]
  },
  {
   "cell_type": "raw",
   "id": "ff4f0ae2-abb8-4108-a50b-ab7263df47d3",
   "metadata": {},
   "source": [
    "* discrete random variable \n",
    "* every experiments outcomes is binary \n",
    "* The experiments is performed for n times \n",
    "\n",
    "example:- \n",
    "\n",
    " 1. tossing a coin 10 times \n",
    " 2. rolling a dice 7 times \n",
    " "
   ]
  },
  {
   "cell_type": "markdown",
   "id": "abba7b6c-d0af-4e42-b280-d5c3537eee52",
   "metadata": {},
   "source": [
    "Q5. Generate a random sample of size 1000 from a binomial distribution with probability of success 0.4\n",
    "and plot a histogram of the results using matplotlib."
   ]
  },
  {
   "cell_type": "code",
   "execution_count": 2,
   "id": "0ca4951f-dc78-4309-b698-194f345425a0",
   "metadata": {},
   "outputs": [
    {
     "data": {
      "image/png": "[encoded data removed]",
      "text/plain": [
       "<Figure size 640x480 with 1 Axes>"
      ]
     },
     "metadata": {},
     "output_type": "display_data"
    }
   ],
   "source": [
    "import numpy as np\n",
    "import matplotlib.pyplot as plt\n",
    "\n",
    "# Set the parameters\n",
    "n = 1000  # Sample size\n",
    "p = 0.4   # Probability of success\n",
    "\n",
    "# Generate the random sample\n",
    "sample = np.random.binomial(1, p, size=n)\n",
    "\n",
    "# Plot the histogram\n",
    "plt.hist(sample, bins=2, edgecolor='black')\n",
    "plt.xlabel('Success or Failure')\n",
    "plt.ylabel('Frequency')\n",
    "plt.title('Histogram of Binomial Distribution')\n",
    "plt.xticks([0, 1], ['Failure', 'Success'])\n",
    "plt.show()\n"
   ]
  },
  {
   "cell_type": "markdown",
   "id": "29d640ff-9c7e-4ec9-8332-ea426d62ba2d",
   "metadata": {},
   "source": [
    "Q6. Write a Python function to calculate the cumulative distribution function of a Poisson distribution\n",
    "with given mean at a given point."
   ]
  },
  {
   "cell_type": "code",
   "execution_count": 5,
   "id": "bdf5c279-91ed-44eb-9e0d-a5fab260d571",
   "metadata": {},
   "outputs": [
    {
     "name": "stdout",
     "output_type": "stream",
     "text": [
      "0.3208471988621341\n"
     ]
    }
   ],
   "source": [
    "import math\n",
    "\n",
    "def poisson_cdf(k, mean):\n",
    "    cdf = 0.0\n",
    "    for i in range(k + 1):\n",
    "        cdf += math.exp(-mean) * (mean ** i) / math.factorial(i)\n",
    "    return cdf\n",
    "mean = 3.5\n",
    "k = 2\n",
    "\n",
    "cdf_value = poisson_cdf(k, mean)\n",
    "print(cdf_value)\n"
   ]
  },
  {
   "cell_type": "markdown",
   "id": "b990404a-04ad-4c28-8299-d3f4790fa51c",
   "metadata": {},
   "source": [
    "Q7. How Binomial distribution different from Poisson distribution?"
   ]
  },
  {
   "cell_type": "raw",
   "id": "54c0d945-f75d-4de7-b21a-a307a02a6efd",
   "metadata": {},
   "source": [
    "The key difference between a Binomial distribution and a Poisson distribution is that the Binomial distribution models the number of successes in a fixed number of independent trials, while the Poisson distribution models the number of events occurring in a fixed interval of time or space."
   ]
  },
  {
   "cell_type": "markdown",
   "id": "15633801-518d-4e7c-8816-93ca5d53d292",
   "metadata": {},
   "source": [
    "Q8. Generate a random sample of size 1000 from a Poisson distribution with mean 5 and calculate the\n",
    "sample mean and variance."
   ]
  },
  {
   "cell_type": "code",
   "execution_count": 6,
   "id": "8cb92f58-ce85-497f-ba87-f78a199f1b9e",
   "metadata": {},
   "outputs": [
    {
     "name": "stdout",
     "output_type": "stream",
     "text": [
      "Sample Mean: 5.06\n",
      "Sample Variance: 5.058400000000001\n"
     ]
    }
   ],
   "source": [
    "import numpy as np\n",
    "\n",
    "# Set the parameters\n",
    "size = 1000  # Sample size\n",
    "mean = 5     # Mean of the Poisson distribution\n",
    "\n",
    "# Generate the random sample\n",
    "sample = np.random.poisson(mean, size)\n",
    "\n",
    "# Calculate the sample mean and variance\n",
    "sample_mean = np.mean(sample)\n",
    "sample_variance = np.var(sample)\n",
    "\n",
    "# Print the results\n",
    "print(\"Sample Mean:\", sample_mean)\n",
    "print(\"Sample Variance:\", sample_variance)\n"
   ]
  },
  {
   "cell_type": "markdown",
   "id": "575c48b3-d096-4926-9ea2-6d13ac0d1c46",
   "metadata": {},
   "source": [
    "Q9. How mean and variance are related in Binomial distribution and Poisson distribution?"
   ]
  },
  {
   "cell_type": "raw",
   "id": "a9670507-44e8-45ee-9e8f-d49b29451169",
   "metadata": {},
   "source": [
    "In both the Binomial and Poisson distributions, the mean and variance are related, but the nature of their relationship differs.\n",
    "\n",
    "For the Binomial distribution, the mean is given by the product of the number of trials (`n`) and the probability of success (`p`). The variance is the product of `n`, `p`, and `1 - p`. As `n` increases, the distribution becomes more symmetric and bell-shaped, and the variance decreases relative to the mean.\n",
    "\n",
    "In the Poisson distribution, the mean is equal to the variance. Regardless of the mean value, the Poisson distribution is always symmetric and bell-shaped. As the mean increases, the distribution becomes more spread out, with a larger range of possible values, but the shape remains the same.\n",
    "\n",
    "Overall, for the Binomial distribution, the variance depends on both `n` and `p`, while in the Poisson distribution, the variance is solely determined by the mean."
   ]
  },
  {
   "cell_type": "markdown",
   "id": "8c9b3055-8cda-4e0d-918c-4185ebceb097",
   "metadata": {},
   "source": [
    "Q10. In normal distribution with respect to mean position, where does the least frequent data appear?"
   ]
  },
  {
   "cell_type": "raw",
   "id": "9b446166-5186-4b8a-8b97-da0f2df76ec8",
   "metadata": {},
   "source": [
    "In a normal distribution, the least frequent data appears in the tails of the distribution, specifically at the extreme ends. The normal distribution is symmetric, with the mean positioned at the center. As we move away from the mean towards the tails, the data becomes increasingly less frequent. The tails of the distribution represent the extreme values, and they occur with decreasing frequency as they move further away from the mean. This is due to the bell-shaped curve nature of the normal distribution, where the majority of the data is concentrated around the mean, and the probability gradually decreases as we move away from the center."
   ]
  },
  {
   "cell_type": "code",
   "execution_count": null,
   "id": "f34ee7f7-f515-4504-bc5f-03329acf5413",
   "metadata": {},
   "outputs": [],
   "source": []
  }
 ],
 "metadata": {
  "kernelspec": {
   "display_name": "Python 3 (ipykernel)",
   "language": "python",
   "name": "python3"
  },
  "language_info": {
   "codemirror_mode": {
    "name": "ipython",
    "version": 3
   },
   "file_extension": ".py",
   "mimetype": "text/x-python",
   "name": "python",
   "nbconvert_exporter": "python",
   "pygments_lexer": "ipython3",
   "version": "3.10.8"
  }
 },
 "nbformat": 4,
 "nbformat_minor": 5
}

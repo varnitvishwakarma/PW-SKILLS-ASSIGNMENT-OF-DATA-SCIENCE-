{
 "cells": [
  {
   "cell_type": "markdown",
   "id": "9523fa85-3d20-4733-83b3-028246fb59a3",
   "metadata": {},
   "source": [
    "### 29 APRIL"
   ]
  },
  {
   "cell_type": "markdown",
   "id": "a7b7ef51-6b7e-42cf-83d0-cad3db466594",
   "metadata": {},
   "source": [
    "Q1. Explain the basic concept of clustering and give examples of applications where clustering is useful.\n",
    "\n",
    "Clustering is a machine learning technique used for grouping similar data points together based on their features or characteristics. The primary goal of clustering is to discover patterns, structures, or natural groupings in the data without using predefined labels. Here's the basic concept of clustering:\n",
    "\n",
    "- Data points are grouped into clusters so that points within the same cluster are more similar to each other than to points in other clusters.\n",
    "- Clusters are defined based on certain criteria or distance metrics, and data points are assigned to the cluster that best matches those criteria.\n",
    "- Clustering can be performed in various ways, including hierarchical clustering, k-means clustering, and density-based clustering, among others.\n",
    "\n",
    "Examples of applications where clustering is useful include:\n",
    "\n",
    "1. Customer Segmentation: In marketing, clustering can be used to segment customers into groups based on purchasing behavior, allowing businesses to tailor marketing strategies to each group's preferences.\n",
    "\n",
    "2. Image Segmentation: Clustering can be applied to segment images into regions with similar pixel values, which is useful in computer vision and medical imaging.\n",
    "\n",
    "3. Anomaly Detection: Clustering can help identify outliers or anomalies in datasets, which is critical for fraud detection, network security, and quality control.\n",
    "\n",
    "4. Document Clustering: In natural language processing, clustering can group similar documents together for tasks like topic modeling and document organization.\n",
    "\n",
    "5. Recommender Systems: Clustering can be used to group users or items with similar preferences in recommendation engines, enhancing personalized recommendations.\n",
    "\n",
    "6. Genomic Data Analysis: Clustering is used to group genes with similar expression profiles, aiding in the study of gene functions and disease analysis.\n",
    "\n",
    "7. Spatial Data Analysis: Clustering can be applied to geographical data to discover patterns in crime analysis, urban planning, and environmental monitoring.\n",
    "\n",
    "Q2. What is DBSCAN and how does it differ from other clustering algorithms such as k-means and hierarchical clustering?\n",
    "\n",
    "DBSCAN (Density-Based Spatial Clustering of Applications with Noise) is a density-based clustering algorithm that differs from other clustering algorithms like k-means and hierarchical clustering in several ways:\n",
    "\n",
    "- Density-Based: DBSCAN identifies clusters based on the density of data points rather than assuming that clusters have spherical shapes or a predefined number of clusters. It can find clusters of arbitrary shapes and handle varying cluster sizes.\n",
    "\n",
    "- No Predefined Number of Clusters: Unlike k-means, which requires specifying the number of clusters beforehand, DBSCAN automatically determines the number of clusters based on the data's density and distance criteria.\n",
    "\n",
    "- Handles Noise and Outliers: DBSCAN is capable of identifying and labeling data points as noise or outliers, which may not belong to any cluster. This makes it robust in scenarios where data contains outliers.\n",
    "\n",
    "- Hierarchical Clustering: Unlike hierarchical clustering, which builds a tree-like structure of nested clusters, DBSCAN generates flat clusters directly. It does not produce a hierarchy of clusters.\n",
    "\n",
    "- Parameter-Dependent: DBSCAN requires setting two main parameters: epsilon (ε), which defines the maximum distance between points in the same neighborhood, and the minimum number of points (MinPts) required to form a dense region. Properly tuning these parameters can be challenging.\n",
    "\n",
    "Q3. How do you determine the optimal values for the epsilon and minimum points parameters in DBSCAN clustering?\n",
    "\n",
    "Determining the optimal values for the epsilon (ε) and minimum points (MinPts) parameters in DBSCAN can be done through a combination of techniques and considerations:\n",
    "\n",
    "1. Visual Inspection: One approach is to visualize the data and its distribution to gain insights into the appropriate values. You can use scatter plots, histograms, or density plots to understand the data's density and the distance between clusters. This can provide initial estimates for ε and MinPts.\n",
    "\n",
    "2. Elbow Method: The elbow method involves running DBSCAN with a range of parameter values and measuring clustering quality using an internal metric such as the silhouette score or Davies-Bouldin index. Plot the results and look for an \"elbow\" point where the metric stabilizes or decreases at a slower rate. This can help identify suitable parameter values.\n",
    "\n",
    "3. Grid Search: You can perform a grid search by systematically trying a range of ε and MinPts values. This brute-force approach involves evaluating DBSCAN with all combinations of parameter values and selecting the one that yields the best clustering results based on chosen evaluation metrics.\n",
    "\n",
    "4. Domain Knowledge: Depending on the problem and domain expertise, you may have prior knowledge that can guide your choice of parameters. For example, if you know that clusters in your data are typically separated by a certain distance, you can set ε accordingly.\n",
    "\n",
    "5. Trial and Error: Experiment with different parameter values and evaluate the results. Iterate and refine the parameters until you achieve meaningful and interpretable clusters.\n",
    "\n",
    "6. Silhouette Analysis: Compute the silhouette scores for different parameter combinations and choose the combination that maximizes the silhouette score, indicating well-separated clusters.\n",
    "\n",
    "Parameter tuning in DBSCAN may require some experimentation, and the choice of parameters often depends on the specific characteristics of the dataset.\n",
    "\n",
    "Q4. How does DBSCAN clustering handle outliers in a dataset?\n",
    "\n",
    "DBSCAN handles outliers in a dataset by classifying data points as either core points, border points, or noise points based on their density and connectivity:\n",
    "\n",
    "- Core Points: Core points are data points that have at least MinPts (a user-defined parameter) other data points within a distance of ε (another user-defined parameter). They form the dense core of a cluster.\n",
    "\n",
    "- Border Points: Border points are data points that are within ε distance of a core point but do not satisfy the MinPts criterion themselves. They are on the outskirts of a cluster and are considered part of the cluster.\n",
    "\n",
    "- Noise Points: Noise points (outliers) are data points that do not belong to any cluster. They do not have enough nearby neighbors to meet the ε and MinPts criteria for core or border points.\n",
    "\n",
    "DBSCAN identifies clusters by connecting core points to each other through density-reachable paths. Data points that cannot be reached by a density-reachable path from any core point are labeled as noise points.\n",
    "\n",
    "This noise handling mechanism makes DBSCAN robust to outliers because it doesn't force outliers into clusters. Instead, outliers are naturally identified as noise points and do not affect the formation of clusters, allowing the algorithm to focus on discovering meaningful patterns in the data.\n",
    "\n",
    "Q5. How does DBSCAN clustering differ from k-means clustering?\n",
    "\n",
    "DBSCAN clustering differs from k-means clustering in several ways:\n",
    "\n",
    "1. Cluster Shape: DBSCAN does not assume that clusters have spherical shapes, while k-means assumes that clusters are spherical and of similar sizes. DBSCAN can discover clusters of arbitrary shapes and varying sizes.\n",
    "\n",
    "2. Number of Clusters: DBSCAN does not require specifying the number of clusters beforehand, whereas k-means requires you to predefine the number of clusters (k). DBSCAN determines the number of clusters based on data density and connectivity.\n",
    "\n",
    "3. Handling Noise: DBSCAN can identify and label data points as noise or outliers, which do not belong to any cluster. In contrast, k-means assigns every data point to one of the k clusters, even if some points are distant from any cluster center.\n",
    "\n",
    "4. Initialization: K-means often relies on random initialization of cluster centroids, which can lead to different results in each run. DBSCAN does not require random initialization and typically produces consistent results.\n",
    "\n",
    "5. Performance on Irregular Clusters: DBSCAN performs well on datasets with irregularly shaped clusters and varying cluster densities. K-means may struggle with such datasets.\n",
    "\n",
    "6. Interpretability: K\n",
    "\n",
    "-means clusters are defined by their centroids, making it easy to interpret the cluster centers. In DBSCAN, cluster shapes are not represented by a single point, which can make cluster interpretation less straightforward.\n",
    "\n",
    "7. Distance Metric: K-means uses the Euclidean distance metric by default, while DBSCAN allows the use of various distance metrics, making it more flexible for different types of data.\n",
    "\n",
    "Overall, DBSCAN is particularly suitable for datasets with complex structures and varying cluster densities, where k-means may not perform as effectively.\n",
    "\n",
    "Q6. Can DBSCAN clustering be applied to datasets with high-dimensional feature spaces? If so, what are some potential challenges?\n",
    "\n",
    "Yes, DBSCAN can be applied to datasets with high-dimensional feature spaces. However, there are some potential challenges and considerations:\n",
    "\n",
    "1. Curse of Dimensionality: In high-dimensional spaces, the curse of dimensionality becomes a concern. As the number of dimensions increases, the data points become more spread out, making it harder to define meaningful neighborhood distances and density thresholds. This can lead to difficulties in selecting appropriate ε and MinPts values.\n",
    "\n",
    "2. Dimension Reduction: Dimensionality reduction techniques like Principal Component Analysis (PCA) or t-Distributed Stochastic Neighbor Embedding (t-SNE) can be applied before running DBSCAN to reduce the number of dimensions and improve the algorithm's performance.\n",
    "\n",
    "3. Distance Metric: The choice of distance metric becomes crucial in high-dimensional spaces. Euclidean distance may become less informative as the number of dimensions increases. Consider using alternative distance metrics such as cosine similarity or Mahalanobis distance that are more suitable for high-dimensional data.\n",
    "\n",
    "4. Data Sparsity: High-dimensional datasets are often sparse, meaning that most feature values are zero or near-zero. Handling sparse data may require preprocessing, such as feature scaling or feature selection, to improve clustering results.\n",
    "\n",
    "5. Interpretability: Interpreting high-dimensional clusters can be challenging, as visualizing and understanding clusters in high-dimensional spaces is difficult. Reducing dimensionality and applying visualization techniques can help in this regard.\n",
    "\n",
    "6. Computational Complexity: As the dimensionality increases, the computational complexity of DBSCAN can also increase. Efficient implementations and optimizations are important for scalability.\n",
    "\n",
    "In summary, while DBSCAN can be applied to high-dimensional data, careful preprocessing, parameter tuning, and consideration of distance metrics are essential to overcome challenges associated with the curse of dimensionality and data sparsity.\n",
    "\n",
    "Q7. How does DBSCAN clustering handle clusters with varying densities?\n",
    "\n",
    "DBSCAN is well-suited for handling clusters with varying densities because it defines clusters based on local density properties rather than assuming a uniform density across all clusters. Here's how DBSCAN handles clusters with varying densities:\n",
    "\n",
    "1. Core Points: In DBSCAN, a core point is a data point with at least MinPts (a user-defined parameter) other data points within a distance of ε (another user-defined parameter). These core points represent regions of high data density within clusters.\n",
    "\n",
    "2. Border Points: Border points are data points that are within ε distance of a core point but do not satisfy the MinPts criterion themselves. They belong to the same cluster as the core point and extend the cluster's boundary. Border points are part of the cluster but have fewer neighboring points compared to core points.\n",
    "\n",
    "3. Noise Points: Data points that do not satisfy the criteria for core or border points are classified as noise points or outliers. They do not belong to any cluster.\n",
    "\n",
    "As a result, clusters in DBSCAN can naturally adapt to varying densities within the data:\n",
    "\n",
    "- Dense Regions: In regions with high data density, many core points are present, and clusters are well-defined and compact.\n",
    "\n",
    "- Sparse Regions: In regions with lower data density, clusters may consist of only a few core points connected by border points, allowing clusters to be more spread out.\n",
    "\n",
    "- Isolated Points: Outliers or isolated data points that do not belong to any dense region are classified as noise points.\n",
    "\n",
    "This flexibility allows DBSCAN to discover clusters of varying shapes and sizes within a dataset, making it suitable for applications where clusters exhibit different levels of density.\n",
    "\n",
    "Q8. What are some common evaluation metrics used to assess the quality of DBSCAN clustering results?\n",
    "\n",
    "Assessing the quality of DBSCAN clustering results can be done using several common evaluation metrics:\n",
    "\n",
    "1. Silhouette Score: The silhouette score measures how similar each data point is to its own cluster compared to other clusters. It ranges from -1 to 1, with higher values indicating better-defined clusters. A high silhouette score indicates that the data points within clusters are well-separated.\n",
    "\n",
    "2. Davies-Bouldin Index: This index quantifies the average similarity between each cluster and its most similar neighboring cluster. Lower values indicate better clustering quality, with well-separated and compact clusters.\n",
    "\n",
    "3. Dunn Index: The Dunn index measures the ratio of the minimum inter-cluster distance to the maximum intra-cluster distance. A higher Dunn index suggests better clustering quality, with well-separated clusters.\n",
    "\n",
    "4. Adjusted Rand Index (ARI): ARI measures the similarity between the ground truth labels (if available) and the clustering results, adjusting for chance. It provides a measure of clustering accuracy.\n",
    "\n",
    "5. Normalized Mutual Information (NMI): NMI measures the mutual information between the ground truth labels and the clustering results, normalized to the range [0, 1]. It quantifies the amount of information shared between the labels and clusters.\n",
    "\n",
    "6. Jaccard Index: The Jaccard index measures the similarity between the ground truth labels and the clustering results using the intersection over union of sets. It is often used for binary or sparse data.\n",
    "\n",
    "7. Rand Index: The Rand index measures the similarity between the ground truth labels and the clustering results by comparing pairs of data points and counting the number of agreements and disagreements.\n",
    "\n",
    "8. Calinski-Harabasz Index (Variance Ratio Criterion): This index measures the ratio of between-cluster variance to within-cluster variance. Higher values indicate better clustering quality.\n",
    "\n",
    "9. Connectivity and Centrality: Qualitative measures such as assessing the connectivity and centrality of clusters visually or using domain-specific criteria can also be used to evaluate clustering results.\n",
    "\n",
    "The choice of evaluation metric depends on the specific characteristics of the data and the goals of the clustering task. It is often recommended to use a combination of these metrics to obtain a more comprehensive assessment of clustering quality.\n",
    "\n",
    "Q9. Can DBSCAN clustering be used for semi-supervised learning tasks?\n",
    "\n",
    "DBSCAN is primarily an unsupervised clustering algorithm, meaning it does not rely on labeled data during the clustering process. However, it is possible to use DBSCAN in semi-supervised learning settings in a few ways:\n",
    "\n",
    "1. Label Propagation: After performing DBSCAN clustering on unlabeled data, you can propagate cluster labels to all data points within the same cluster. This can serve as a form of semi-supervised learning where the clusters effectively become pseudo-labels. However, it's essential to validate the quality of these pseudo-labels and their utility for the downstream task.\n",
    "\n",
    "2. Outlier Detection: DBSCAN's ability to detect noise points and outliers can be valuable in semi-supervised learning. Outliers can be flagged for further inspection or treated as a separate class in semi-supervised classification tasks.\n",
    "\n",
    "3. Data Preprocessing: DBSCAN can be used as a preprocessing step to identify and remove outliers or noisy data points from a dataset before applying a supervised learning algorithm. This can improve the quality of the labeled data used in subsequent steps.\n",
    "\n",
    "4. Feature Engineering: DBSCAN can assist in feature engineering by creating features based on cluster assignments. These features can be used as inputs to a supervised learning model.\n",
    "\n",
    "While DBSCAN itself is\n",
    "\n",
    " not a traditional semi-supervised learning algorithm, it can be incorporated into semi-supervised workflows to enhance the quality of labeled data or to assist in data preprocessing.\n",
    "\n",
    "Q10. How does DBSCAN clustering handle datasets with noise or missing values?\n",
    "\n",
    "DBSCAN has a natural mechanism for handling noise or outliers in datasets, which makes it robust in the presence of noisy data. Here's how DBSCAN handles noise and missing values:\n",
    "\n",
    "1. Noise Handling: DBSCAN identifies noise points as data points that do not belong to any cluster. It does this by classifying points as core points, border points, or noise points based on density and connectivity criteria. Noise points are not assigned to any cluster, allowing the algorithm to focus on forming meaningful clusters.\n",
    "\n",
    "2. Missing Values: DBSCAN can handle datasets with missing values to some extent. However, the specific implementation and behavior regarding missing values may depend on the software library or tool you are using. In some implementations, missing values can be treated as a separate category or ignored when computing distances. It's important to preprocess the data appropriately to ensure consistent handling of missing values.\n",
    "\n",
    "3. Robustness to Outliers: DBSCAN's noise handling mechanism makes it robust to outliers, which are often considered a form of noise in the data. Outliers are classified as noise points and do not influence the formation of clusters, allowing DBSCAN to discover meaningful patterns in the presence of outliers.\n",
    "\n",
    "4. Data Imputation: If missing values are a concern, you may need to perform data imputation or preprocessing to handle missing data before applying DBSCAN. This can involve techniques such as mean imputation, median imputation, or more advanced methods like k-nearest neighbors imputation.\n",
    "\n",
    "While DBSCAN can handle noisy data and outliers effectively, addressing missing values requires careful preprocessing steps to ensure accurate clustering results. The exact handling of missing values may vary depending on the specific dataset and the implementation of DBSCAN being used."
   ]
  },
  {
   "cell_type": "markdown",
   "id": "b2a7f8a6-d4a3-42f8-833e-bae4794dcb4b",
   "metadata": {},
   "source": [
    "Q11. Implement the DBSCAN algorithm using a python programming language, and apply it to a sample\n",
    "dataset. Discuss the clustering results and interpret the meaning of the obtained clusters."
   ]
  },
  {
   "cell_type": "code",
   "execution_count": 23,
   "id": "818d7ff1-6dd2-43b0-8363-b22a20428671",
   "metadata": {},
   "outputs": [],
   "source": [
    "import seaborn as sns "
   ]
  },
  {
   "cell_type": "code",
   "execution_count": 24,
   "id": "8123f422-f1b0-44e8-8146-d4cadc94533a",
   "metadata": {},
   "outputs": [],
   "source": [
    "df=sns.load_dataset(\"tips\")"
   ]
  },
  {
   "cell_type": "code",
   "execution_count": 25,
   "id": "8c7fed49-2c3e-46b8-bbc1-2025af76943e",
   "metadata": {},
   "outputs": [
    {
     "data": {
      "text/html": [
       "<div>\n",
       "<style scoped>\n",
       "    .dataframe tbody tr th:only-of-type {\n",
       "        vertical-align: middle;\n",
       "    }\n",
       "\n",
       "    .dataframe tbody tr th {\n",
       "        vertical-align: top;\n",
       "    }\n",
       "\n",
       "    .dataframe thead th {\n",
       "        text-align: right;\n",
       "    }\n",
       "</style>\n",
       "<table border=\"1\" class=\"dataframe\">\n",
       "  <thead>\n",
       "    <tr style=\"text-align: right;\">\n",
       "      <th></th>\n",
       "      <th>total_bill</th>\n",
       "      <th>tip</th>\n",
       "      <th>sex</th>\n",
       "      <th>smoker</th>\n",
       "      <th>day</th>\n",
       "      <th>time</th>\n",
       "      <th>size</th>\n",
       "    </tr>\n",
       "  </thead>\n",
       "  <tbody>\n",
       "    <tr>\n",
       "      <th>0</th>\n",
       "      <td>16.99</td>\n",
       "      <td>1.01</td>\n",
       "      <td>Female</td>\n",
       "      <td>No</td>\n",
       "      <td>Sun</td>\n",
       "      <td>Dinner</td>\n",
       "      <td>2</td>\n",
       "    </tr>\n",
       "    <tr>\n",
       "      <th>1</th>\n",
       "      <td>10.34</td>\n",
       "      <td>1.66</td>\n",
       "      <td>Male</td>\n",
       "      <td>No</td>\n",
       "      <td>Sun</td>\n",
       "      <td>Dinner</td>\n",
       "      <td>3</td>\n",
       "    </tr>\n",
       "    <tr>\n",
       "      <th>2</th>\n",
       "      <td>21.01</td>\n",
       "      <td>3.50</td>\n",
       "      <td>Male</td>\n",
       "      <td>No</td>\n",
       "      <td>Sun</td>\n",
       "      <td>Dinner</td>\n",
       "      <td>3</td>\n",
       "    </tr>\n",
       "    <tr>\n",
       "      <th>3</th>\n",
       "      <td>23.68</td>\n",
       "      <td>3.31</td>\n",
       "      <td>Male</td>\n",
       "      <td>No</td>\n",
       "      <td>Sun</td>\n",
       "      <td>Dinner</td>\n",
       "      <td>2</td>\n",
       "    </tr>\n",
       "    <tr>\n",
       "      <th>4</th>\n",
       "      <td>24.59</td>\n",
       "      <td>3.61</td>\n",
       "      <td>Female</td>\n",
       "      <td>No</td>\n",
       "      <td>Sun</td>\n",
       "      <td>Dinner</td>\n",
       "      <td>4</td>\n",
       "    </tr>\n",
       "    <tr>\n",
       "      <th>...</th>\n",
       "      <td>...</td>\n",
       "      <td>...</td>\n",
       "      <td>...</td>\n",
       "      <td>...</td>\n",
       "      <td>...</td>\n",
       "      <td>...</td>\n",
       "      <td>...</td>\n",
       "    </tr>\n",
       "    <tr>\n",
       "      <th>239</th>\n",
       "      <td>29.03</td>\n",
       "      <td>5.92</td>\n",
       "      <td>Male</td>\n",
       "      <td>No</td>\n",
       "      <td>Sat</td>\n",
       "      <td>Dinner</td>\n",
       "      <td>3</td>\n",
       "    </tr>\n",
       "    <tr>\n",
       "      <th>240</th>\n",
       "      <td>27.18</td>\n",
       "      <td>2.00</td>\n",
       "      <td>Female</td>\n",
       "      <td>Yes</td>\n",
       "      <td>Sat</td>\n",
       "      <td>Dinner</td>\n",
       "      <td>2</td>\n",
       "    </tr>\n",
       "    <tr>\n",
       "      <th>241</th>\n",
       "      <td>22.67</td>\n",
       "      <td>2.00</td>\n",
       "      <td>Male</td>\n",
       "      <td>Yes</td>\n",
       "      <td>Sat</td>\n",
       "      <td>Dinner</td>\n",
       "      <td>2</td>\n",
       "    </tr>\n",
       "    <tr>\n",
       "      <th>242</th>\n",
       "      <td>17.82</td>\n",
       "      <td>1.75</td>\n",
       "      <td>Male</td>\n",
       "      <td>No</td>\n",
       "      <td>Sat</td>\n",
       "      <td>Dinner</td>\n",
       "      <td>2</td>\n",
       "    </tr>\n",
       "    <tr>\n",
       "      <th>243</th>\n",
       "      <td>18.78</td>\n",
       "      <td>3.00</td>\n",
       "      <td>Female</td>\n",
       "      <td>No</td>\n",
       "      <td>Thur</td>\n",
       "      <td>Dinner</td>\n",
       "      <td>2</td>\n",
       "    </tr>\n",
       "  </tbody>\n",
       "</table>\n",
       "<p>244 rows × 7 columns</p>\n",
       "</div>"
      ],
      "text/plain": [
       "     total_bill   tip     sex smoker   day    time  size\n",
       "0         16.99  1.01  Female     No   Sun  Dinner     2\n",
       "1         10.34  1.66    Male     No   Sun  Dinner     3\n",
       "2         21.01  3.50    Male     No   Sun  Dinner     3\n",
       "3         23.68  3.31    Male     No   Sun  Dinner     2\n",
       "4         24.59  3.61  Female     No   Sun  Dinner     4\n",
       "..          ...   ...     ...    ...   ...     ...   ...\n",
       "239       29.03  5.92    Male     No   Sat  Dinner     3\n",
       "240       27.18  2.00  Female    Yes   Sat  Dinner     2\n",
       "241       22.67  2.00    Male    Yes   Sat  Dinner     2\n",
       "242       17.82  1.75    Male     No   Sat  Dinner     2\n",
       "243       18.78  3.00  Female     No  Thur  Dinner     2\n",
       "\n",
       "[244 rows x 7 columns]"
      ]
     },
     "execution_count": 25,
     "metadata": {},
     "output_type": "execute_result"
    }
   ],
   "source": [
    "df"
   ]
  },
  {
   "cell_type": "code",
   "execution_count": 26,
   "id": "4df800af-e113-4e02-bb27-0096cd1aee30",
   "metadata": {},
   "outputs": [],
   "source": [
    "df=df.drop([\"sex\",\"smoker\",\"day\",\"time\"],axis=1)"
   ]
  },
  {
   "cell_type": "code",
   "execution_count": 27,
   "id": "fa77b4ca-3d17-4d79-90cf-7debc647c7d4",
   "metadata": {},
   "outputs": [],
   "source": [
    "from sklearn.model_selection import train_test_split"
   ]
  },
  {
   "cell_type": "code",
   "execution_count": 28,
   "id": "ec003d65-12b1-4b89-bbab-f731abb4d09c",
   "metadata": {},
   "outputs": [],
   "source": [
    "X_train,X_test=train_test_split(df,test_size=0.33)"
   ]
  },
  {
   "cell_type": "code",
   "execution_count": 29,
   "id": "a2aa6c72-592a-4e06-97d9-28b58697a55c",
   "metadata": {},
   "outputs": [],
   "source": [
    "from sklearn.preprocessing import StandardScaler"
   ]
  },
  {
   "cell_type": "code",
   "execution_count": 30,
   "id": "04f01cf2-ad77-4fd9-92ea-1af6e2ee4924",
   "metadata": {},
   "outputs": [],
   "source": [
    "scaler=StandardScaler()"
   ]
  },
  {
   "cell_type": "code",
   "execution_count": 31,
   "id": "e31de161-c70f-495e-a73e-1655aab5bce4",
   "metadata": {},
   "outputs": [],
   "source": [
    "X_train_sca=scaler.fit_transform(X_train)"
   ]
  },
  {
   "cell_type": "code",
   "execution_count": 32,
   "id": "43ed35be-1bbf-4214-93c8-8f9b72ee7965",
   "metadata": {},
   "outputs": [],
   "source": [
    "X_test_sca=scaler.fit_transform(X_test)"
   ]
  },
  {
   "cell_type": "code",
   "execution_count": 33,
   "id": "537b8ebf-dd7f-4c48-b9d8-7a7bf6d5c63d",
   "metadata": {},
   "outputs": [],
   "source": [
    "from sklearn.cluster import DBSCAN"
   ]
  },
  {
   "cell_type": "code",
   "execution_count": 34,
   "id": "bddb17a3-5478-46dd-b6c7-8ca4c79ddac3",
   "metadata": {},
   "outputs": [],
   "source": [
    "dbscan=DBSCAN(eps=0.5)"
   ]
  },
  {
   "cell_type": "code",
   "execution_count": 35,
   "id": "d5ddf34c-ad63-4275-8673-a318078fbac6",
   "metadata": {},
   "outputs": [
    {
     "data": {
      "text/html": [
       "<style>#sk-container-id-2 {color: black;background-color: white;}#sk-container-id-2 pre{padding: 0;}#sk-container-id-2 div.sk-toggleable {background-color: white;}#sk-container-id-2 label.sk-toggleable__label {cursor: pointer;display: block;width: 100%;margin-bottom: 0;padding: 0.3em;box-sizing: border-box;text-align: center;}#sk-container-id-2 label.sk-toggleable__label-arrow:before {content: \"▸\";float: left;margin-right: 0.25em;color: #696969;}#sk-container-id-2 label.sk-toggleable__label-arrow:hover:before {color: black;}#sk-container-id-2 div.sk-estimator:hover label.sk-toggleable__label-arrow:before {color: black;}#sk-container-id-2 div.sk-toggleable__content {max-height: 0;max-width: 0;overflow: hidden;text-align: left;background-color: #f0f8ff;}#sk-container-id-2 div.sk-toggleable__content pre {margin: 0.2em;color: black;border-radius: 0.25em;background-color: #f0f8ff;}#sk-container-id-2 input.sk-toggleable__control:checked~div.sk-toggleable__content {max-height: 200px;max-width: 100%;overflow: auto;}#sk-container-id-2 input.sk-toggleable__control:checked~label.sk-toggleable__label-arrow:before {content: \"▾\";}#sk-container-id-2 div.sk-estimator input.sk-toggleable__control:checked~label.sk-toggleable__label {background-color: #d4ebff;}#sk-container-id-2 div.sk-label input.sk-toggleable__control:checked~label.sk-toggleable__label {background-color: #d4ebff;}#sk-container-id-2 input.sk-hidden--visually {border: 0;clip: rect(1px 1px 1px 1px);clip: rect(1px, 1px, 1px, 1px);height: 1px;margin: -1px;overflow: hidden;padding: 0;position: absolute;width: 1px;}#sk-container-id-2 div.sk-estimator {font-family: monospace;background-color: #f0f8ff;border: 1px dotted black;border-radius: 0.25em;box-sizing: border-box;margin-bottom: 0.5em;}#sk-container-id-2 div.sk-estimator:hover {background-color: #d4ebff;}#sk-container-id-2 div.sk-parallel-item::after {content: \"\";width: 100%;border-bottom: 1px solid gray;flex-grow: 1;}#sk-container-id-2 div.sk-label:hover label.sk-toggleable__label {background-color: #d4ebff;}#sk-container-id-2 div.sk-serial::before {content: \"\";position: absolute;border-left: 1px solid gray;box-sizing: border-box;top: 0;bottom: 0;left: 50%;z-index: 0;}#sk-container-id-2 div.sk-serial {display: flex;flex-direction: column;align-items: center;background-color: white;padding-right: 0.2em;padding-left: 0.2em;position: relative;}#sk-container-id-2 div.sk-item {position: relative;z-index: 1;}#sk-container-id-2 div.sk-parallel {display: flex;align-items: stretch;justify-content: center;background-color: white;position: relative;}#sk-container-id-2 div.sk-item::before, #sk-container-id-2 div.sk-parallel-item::before {content: \"\";position: absolute;border-left: 1px solid gray;box-sizing: border-box;top: 0;bottom: 0;left: 50%;z-index: -1;}#sk-container-id-2 div.sk-parallel-item {display: flex;flex-direction: column;z-index: 1;position: relative;background-color: white;}#sk-container-id-2 div.sk-parallel-item:first-child::after {align-self: flex-end;width: 50%;}#sk-container-id-2 div.sk-parallel-item:last-child::after {align-self: flex-start;width: 50%;}#sk-container-id-2 div.sk-parallel-item:only-child::after {width: 0;}#sk-container-id-2 div.sk-dashed-wrapped {border: 1px dashed gray;margin: 0 0.4em 0.5em 0.4em;box-sizing: border-box;padding-bottom: 0.4em;background-color: white;}#sk-container-id-2 div.sk-label label {font-family: monospace;font-weight: bold;display: inline-block;line-height: 1.2em;}#sk-container-id-2 div.sk-label-container {text-align: center;}#sk-container-id-2 div.sk-container {/* jupyter's `normalize.less` sets `[hidden] { display: none; }` but bootstrap.min.css set `[hidden] { display: none !important; }` so we also need the `!important` here to be able to override the default hidden behavior on the sphinx rendered scikit-learn.org. See: https://github.com/scikit-learn/scikit-learn/issues/21755 */display: inline-block !important;position: relative;}#sk-container-id-2 div.sk-text-repr-fallback {display: none;}</style><div id=\"sk-container-id-2\" class=\"sk-top-container\"><div class=\"sk-text-repr-fallback\"><pre>DBSCAN()</pre><b>In a Jupyter environment, please rerun this cell to show the HTML representation or trust the notebook. <br />On GitHub, the HTML representation is unable to render, please try loading this page with nbviewer.org.</b></div><div class=\"sk-container\" hidden><div class=\"sk-item\"><div class=\"sk-estimator sk-toggleable\"><input class=\"sk-toggleable__control sk-hidden--visually\" id=\"sk-estimator-id-2\" type=\"checkbox\" checked><label for=\"sk-estimator-id-2\" class=\"sk-toggleable__label sk-toggleable__label-arrow\">DBSCAN</label><div class=\"sk-toggleable__content\"><pre>DBSCAN()</pre></div></div></div></div></div>"
      ],
      "text/plain": [
       "DBSCAN()"
      ]
     },
     "execution_count": 35,
     "metadata": {},
     "output_type": "execute_result"
    }
   ],
   "source": [
    "dbscan.fit(X_train_sca)"
   ]
  },
  {
   "cell_type": "code",
   "execution_count": 36,
   "id": "c1927e28-a058-4908-a7b7-a26b3a7b4d55",
   "metadata": {},
   "outputs": [
    {
     "data": {
      "text/plain": [
       "array([-1,  0,  0,  0,  0,  0, -1,  0,  0, -1, -1, -1, -1,  1,  2,  0,  0,\n",
       "        0,  0,  1,  0,  0,  0,  0, -1, -1,  0,  0,  1,  0,  0,  0,  0,  0,\n",
       "        0,  0, -1,  1,  0,  0,  0,  0,  0,  2,  1,  1,  0, -1,  0,  0, -1,\n",
       "        0,  0, -1,  0,  0,  0,  0, -1,  0,  0,  0,  0,  0,  0, -1,  0,  0,\n",
       "        0,  0, -1,  0, -1,  0, -1,  0,  0, -1, -1, -1,  0,  0, -1, -1,  0,\n",
       "        0,  0, -1,  0,  0,  0,  0,  0,  0,  0,  0,  0,  0, -1, -1,  1,  2,\n",
       "        0,  2,  2, -1,  0,  1, -1,  0,  0,  2, -1, -1, -1,  0,  0,  0,  1,\n",
       "        0, -1,  0,  0, -1, -1, -1,  0,  0,  2,  1, -1,  0,  0,  0,  0, -1,\n",
       "        0,  0,  0,  0, -1,  0, -1, -1,  0,  0,  0,  0,  0,  0,  0,  0,  0,\n",
       "        0,  0, -1,  0,  0,  1, -1,  0,  2,  0])"
      ]
     },
     "execution_count": 36,
     "metadata": {},
     "output_type": "execute_result"
    }
   ],
   "source": [
    "dbscan.labels_"
   ]
  },
  {
   "cell_type": "code",
   "execution_count": 37,
   "id": "4e534c4b-31fe-4839-94fd-90807484338d",
   "metadata": {},
   "outputs": [],
   "source": [
    "import matplotlib.pyplot as plt "
   ]
  },
  {
   "cell_type": "code",
   "execution_count": 52,
   "id": "789b2fb7-0b0e-4485-b854-9363cc7c1d18",
   "metadata": {},
   "outputs": [
    {
     "data": {
      "text/plain": [
       "<matplotlib.collections.PathCollection at 0x7fac69ffe5f0>"
      ]
     },
     "execution_count": 52,
     "metadata": {},
     "output_type": "execute_result"
    },
    {
     "data": {
      "image/png": "[encoded data removed]",
      "text/plain": [
       "<Figure size 640x480 with 1 Axes>"
      ]
     },
     "metadata": {},
     "output_type": "display_data"
    }
   ],
   "source": [
    "plt.scatter(x=X_train_sca[:,0],y=X_train_sca[:,1],c=dbscan.labels_)"
   ]
  },
  {
   "cell_type": "code",
   "execution_count": 53,
   "id": "f91bb212-3be2-42ea-bbaf-1bdac4157454",
   "metadata": {},
   "outputs": [],
   "source": [
    "from sklearn.metrics import silhouette_score"
   ]
  },
  {
   "cell_type": "code",
   "execution_count": 54,
   "id": "0ce60209-b386-41b7-b0f9-3880d28c51bd",
   "metadata": {},
   "outputs": [
    {
     "data": {
      "text/plain": [
       "0.20487260096747484"
      ]
     },
     "execution_count": 54,
     "metadata": {},
     "output_type": "execute_result"
    }
   ],
   "source": [
    "silhouette_score(X_train_sca,dbscan.labels_)"
   ]
  }
 ],
 "metadata": {
  "kernelspec": {
   "display_name": "Python 3 (ipykernel)",
   "language": "python",
   "name": "python3"
  },
  "language_info": {
   "codemirror_mode": {
    "name": "ipython",
    "version": 3
   },
   "file_extension": ".py",
   "mimetype": "text/x-python",
   "name": "python",
   "nbconvert_exporter": "python",
   "pygments_lexer": "ipython3",
   "version": "3.10.8"
  }
 },
 "nbformat": 4,
 "nbformat_minor": 5
}

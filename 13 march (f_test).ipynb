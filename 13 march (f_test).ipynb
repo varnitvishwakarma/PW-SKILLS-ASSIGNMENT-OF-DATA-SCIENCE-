{
 "cells": [
  {
   "cell_type": "code",
   "execution_count": 30,
   "id": "e175f93e-964c-4c95-922e-9e57d5bdaa62",
   "metadata": {},
   "outputs": [
    {
     "data": {
      "text/plain": [
       "1.4131407169609413"
      ]
     },
     "execution_count": 30,
     "metadata": {},
     "output_type": "execute_result"
    }
   ],
   "source": [
    "#Q1. Write a Python function that takes in two arrays of data and calculates the F-value for a variance ratio\n",
    "#test. The function should return the F-value.\n",
    "\n",
    "import numpy as np\n",
    "\n",
    "def f_value_function(a,b):\n",
    "    f=np.var(a1)/np.var(a2)\n",
    "    return f \n",
    "a1=[14,1,5,18,17,25,35,93,7,4]\n",
    "a2=[51,25,8,1,7,15,17,28,9,74]\n",
    "\n",
    "f_value_function(a1,a2)"
   ]
  },
  {
   "cell_type": "code",
   "execution_count": 31,
   "id": "f69e8e7e-38b6-4251-90a0-073eb8e4b7c9",
   "metadata": {},
   "outputs": [
    {
     "data": {
      "text/plain": [
       "3.9715231506113415"
      ]
     },
     "execution_count": 31,
     "metadata": {},
     "output_type": "execute_result"
    }
   ],
   "source": [
    "#Q2. Given a significance level of 0.05 and the degrees of freedom for the numerator and denominator of an\n",
    "#F-distribution, write a Python function that returns the critical F-value for a two-tailed test.\n",
    "\n",
    "import scipy.stats as stat\n",
    "\n",
    "\n",
    "def f_value():\n",
    "    significance =0.05\n",
    "    df1=5\n",
    "    df2=7\n",
    "    critical=stat.f.ppf(1-significance,dfn=df1,dfd=df2)\n",
    "    \n",
    "    return critical\n",
    "f_value()"
   ]
  },
  {
   "cell_type": "code",
   "execution_count": 48,
   "id": "af18a79d-46e3-4b27-a23c-05d4b7a8dd72",
   "metadata": {},
   "outputs": [
    {
     "name": "stdout",
     "output_type": "stream",
     "text": [
      "F_TEST VAULE: 1.3188625480685328\n",
      "P_VAULE 0.512167635805473\n",
      "df1: 23 df 2 : 23\n"
     ]
    }
   ],
   "source": [
    "#Q3. Write a Python program that generates random samples from two normal distributions with known\n",
    "#variances and uses an F-test to determine if the variances are equal. The program should output the F-\n",
    "#value, degrees of freedom, and p-value for the test\n",
    "\n",
    "\n",
    "from scipy.stats import f as p\n",
    "\n",
    "varience1=24\n",
    "varience2=22\n",
    "mean1=0\n",
    "mean2=0\n",
    "sample_size=24\n",
    "\n",
    "np.random.seed(42)\n",
    "\n",
    "sample1=np.random.normal(mean1,np.sqrt(varience1),sample_size)\n",
    "sample2=np.random.normal(mean2,np.sqrt(varience2),sample_size)\n",
    "\n",
    "f=np.var(sample1)/np.var(sample2)\n",
    "df1=sample_size-1\n",
    "df2=sample_size-1\n",
    "\n",
    "p_value= 2 * (1 - p.cdf(f, dof, dof))\n",
    "\n",
    "print(\"F_TEST VAULE:\",f)\n",
    "print(\"P_VAULE\",p_value)\n",
    "print(\"df1:\",df1,\"df 2 :\",df2)\n"
   ]
  },
  {
   "cell_type": "code",
   "execution_count": 54,
   "id": "20daa396-3a6b-4da6-9e86-ee98daf5e442",
   "metadata": {},
   "outputs": [
    {
     "name": "stdout",
     "output_type": "stream",
     "text": [
      "we failed to reject the null hypothesis\n"
     ]
    }
   ],
   "source": [
    "#Q4.The variances of two populations are known to be 10 and 15. A sample of 12 observations is taken from\n",
    "#each population. Conduct an F-test at the 5% significance level to determine if the variances are\n",
    "#significantly different.\n",
    "\n",
    "varience_1=10\n",
    "varience_2=15\n",
    "sample_size=12\n",
    "significance_data=0.05\n",
    "\n",
    "f=(varience_1)/(varience_2)\n",
    "df1=sample_size-1\n",
    "df2=sample_size-1\n",
    "\n",
    "cri=stat.f.ppf(1-significance_data,dfn=df1,dfd=df2)\n",
    "\n",
    "\n",
    "if f > cri:\n",
    "    print(\"we reject the null hypothesis \")\n",
    "else :\n",
    "    print(\"we failed to reject the null hypothesis\")"
   ]
  },
  {
   "cell_type": "code",
   "execution_count": 57,
   "id": "54cd6ea4-92b6-46ea-a083-97c956f9ea5c",
   "metadata": {},
   "outputs": [
    {
     "name": "stdout",
     "output_type": "stream",
     "text": [
      "we fail to reject the null hypothesis\n"
     ]
    }
   ],
   "source": [
    "#Q5. A manufacturer claims that the variance of the diameter of a certain product is 0.005. A sample of 25\n",
    "#products is taken, and the sample variance is found to be 0.006. Conduct an F-test at the 1% significance\n",
    "#level to determine if the claim is justified.\n",
    "\n",
    "var1=0.005\n",
    "var2=0.006\n",
    "sample_size=25\n",
    "significance_level=0.01\n",
    "df1=sample_size-1\n",
    "df2=sample_size-1\n",
    "\n",
    "f=var1/var2\n",
    "\n",
    "cri=stat.f.ppf(1-significance_level,dfn=df1,dfd=df2)\n",
    "\n",
    "if f>cri:\n",
    "    print(\"we reject the null hypothesis\")\n",
    "else:\n",
    "    print(\"we fail to reject the null hypothesis\")"
   ]
  },
  {
   "cell_type": "code",
   "execution_count": 62,
   "id": "eaed1357-6b4c-4ce3-80a9-c3a15d7ff89f",
   "metadata": {},
   "outputs": [
    {
     "data": {
      "text/plain": [
       "('mean', 1.25, 'varience', 0.0005642361111111111)"
      ]
     },
     "execution_count": 62,
     "metadata": {},
     "output_type": "execute_result"
    }
   ],
   "source": [
    "#Q6. Write a Python function that takes in the degrees of freedom for the numerator and denominator of an\n",
    "#F-distribution and calculates the mean and variance of the distribution. The function should return the\n",
    "#mean and variance as a tuple.\n",
    "\n",
    "def mean_variance(df1,df2):\n",
    "    if df1<=0 or df2<=0:\n",
    "        raise ValueError(\"Degree of freedom must be greater than zero\")\n",
    "    mean=df2/(df2-2)\n",
    "    varience_num=2*(df2**2)*(df1+df2-2)\n",
    "    var_deno_1=df1*(df2-2)**2*(df2-4)\n",
    "    var_deno_2=df2**2*(df2-4)*(df2-6)\n",
    "    variance=varience_num/(var_deno_1*var_deno_2)\n",
    "    \n",
    "    return (\"mean\",mean , \"varience\",variance)\n",
    "\n",
    "df1=5\n",
    "df2=10\n",
    "mean_variance(df1,df2)   "
   ]
  },
  {
   "cell_type": "code",
   "execution_count": 66,
   "id": "2c10e3df-a56b-4896-8829-02e49b32f7f9",
   "metadata": {},
   "outputs": [
    {
     "name": "stdout",
     "output_type": "stream",
     "text": [
      "we fail to reject the null hypothesis and the varience are significant same \n"
     ]
    }
   ],
   "source": [
    "#Q7. A random sample of 10 measurements is taken from a normal population with unknown variance. The\n",
    "#sample variance is found to be 25. Another random sample of 15 measurements is taken from another\n",
    "#normal population with unknown variance, and the sample variance is found to be 20. Conduct an F-test\n",
    "#at the 10% significance level to determine if the variances are significantly different.\n",
    "\n",
    "sample_size1=10\n",
    "sam_var1=25\n",
    "sample_size2=15\n",
    "sam_var2=20\n",
    "sig=0.10\n",
    "df1=sample_size1-1\n",
    "df2=sample_size2-1\n",
    "\n",
    "f=sam_var1/sam_var2\n",
    "cri=stat.f.ppf(1-sig,dfn=df1,dfd=df2)\n",
    "\n",
    "if f > cri:\n",
    "    print(\"we reject the null hypothesis and the varience are significantly different\")\n",
    "else:\n",
    "    print(\"we fail to reject the null hypothesis and the varience are significant same \")"
   ]
  },
  {
   "cell_type": "code",
   "execution_count": 71,
   "id": "6b79c6aa-a9ba-434c-9465-e1e786de4ccb",
   "metadata": {},
   "outputs": [
    {
     "name": "stdout",
     "output_type": "stream",
     "text": [
      "we fail to reject the nul hypothesis and the varience are same\n"
     ]
    }
   ],
   "source": [
    "#Q8. The following data represent the waiting times in minutes at two different restaurants on a Saturday\n",
    "#night: Restaurant A: 24, 25, 28, 23, 22, 20, 27; Restaurant B: 31, 33, 35, 30, 32, 36. Conduct an F-test at the 5%\n",
    "#significance level to determine if the variances are significantly different.\n",
    "\n",
    "A=[ 24, 25, 28, 23, 22, 20, 27]\n",
    "B=[ 31, 33, 35, 30, 32, 36]\n",
    "\n",
    "df1=len(A)-1\n",
    "df2=len(B)-1\n",
    "significant=0.05\n",
    "\n",
    "f=np.var(A)/np.var(B)\n",
    "cri=stat.f.ppf(1-significant,dfn=df1,dfd=df2)\n",
    "\n",
    "if f>cri:\n",
    "    print(\"we reject the null hypothesis, and varience are diffrent\")\n",
    "else:\n",
    "    print(\"we fail to reject the nul hypothesis and the varience are same\")"
   ]
  },
  {
   "cell_type": "code",
   "execution_count": 73,
   "id": "80a162ec-ef8c-4a71-b2c1-3a67dc8d0ccf",
   "metadata": {},
   "outputs": [],
   "source": [
    "#Q9. The following data represent the test scores of two groups of students: Group A: 80, 85, 90, 92, 87, 83;\n",
    "#Group B: 75, 78, 82, 79, 81, 84. Conduct an F-test at the 1% significance level to determine if the variances\n",
    "#are significantly different.\n",
    "\n",
    "A=[ 80, 85, 90, 92, 87, 83]\n",
    "B=[75, 78, 82, 79, 81, 84]\n",
    "\n",
    "\n",
    "df1=len(A)-1\n",
    "df2=len(B)-1\n",
    "signi=0.01\n",
    "\n",
    "f=np.var(A)/np.var(B)\n",
    "cri=stat.f.ppf(1-signi,dfn=df1,dfd=df2)\n",
    "\n",
    "if f> cri:\n",
    "    print(\"we reject the null hypothesis and the varience are same \")\n",
    "else:\n",
    "    print(\"we fail to reject the null hypothesis and the b=\")"
   ]
  },
  {
   "cell_type": "code",
   "execution_count": null,
   "id": "f3205d9a-16c2-4934-81fe-3eba63d47224",
   "metadata": {},
   "outputs": [],
   "source": []
  }
 ],
 "metadata": {
  "kernelspec": {
   "display_name": "Python 3 (ipykernel)",
   "language": "python",
   "name": "python3"
  },
  "language_info": {
   "codemirror_mode": {
    "name": "ipython",
    "version": 3
   },
   "file_extension": ".py",
   "mimetype": "text/x-python",
   "name": "python",
   "nbconvert_exporter": "python",
   "pygments_lexer": "ipython3",
   "version": "3.10.8"
  }
 },
 "nbformat": 4,
 "nbformat_minor": 5
}

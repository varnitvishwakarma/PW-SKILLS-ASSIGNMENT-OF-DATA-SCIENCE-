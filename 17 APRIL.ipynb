{
 "cells": [
  {
   "cell_type": "markdown",
   "id": "9fd042f3-5df6-48c0-a3b8-16fd8dd15d5b",
   "metadata": {},
   "source": [
    "## 17 APRIL"
   ]
  },
  {
   "cell_type": "markdown",
   "id": "e38dfa82-8757-47a9-8d09-ab671d5c93af",
   "metadata": {},
   "source": [
    "Q1. What is Gradient Boosting Regression?\n",
    "\n",
    "\n",
    "\n",
    "    Gradient Boosting Regression is a machine learning technique used for regression problems. It works by combining the predictions of multiple weak regression models, typically decision trees, into a strong regression model. The algorithm sequentially trains these weak models, each one focused on the residuals (the differences between the actual and predicted values) of the previous models. By iteratively reducing the errors, it constructs a robust and accurate regression model.\n",
    "\n"
   ]
  },
  {
   "cell_type": "markdown",
   "id": "3b70cd70-1929-47f0-9346-2d1f9d18eaec",
   "metadata": {},
   "source": [
    "Q2. Implement a simple gradient boosting algorithm from scratch using Python and NumPy. Use a simple regression problem as an example and train the model on a small dataset. Evaluate the model's performance using metrics such as mean squared error and Rsquared."
   ]
  },
  {
   "cell_type": "code",
   "execution_count": 2,
   "id": "3836ecf3-076a-4dff-8211-51e660dba7d4",
   "metadata": {},
   "outputs": [],
   "source": [
    "import seaborn as sns "
   ]
  },
  {
   "cell_type": "code",
   "execution_count": 20,
   "id": "530039d7-0eaf-4ba5-85ad-8641e3ca6e69",
   "metadata": {},
   "outputs": [],
   "source": [
    "df=sns.load_dataset(\"tips\")"
   ]
  },
  {
   "cell_type": "code",
   "execution_count": 21,
   "id": "e3e44613-9713-4052-bef4-8e0265ac99ba",
   "metadata": {},
   "outputs": [
    {
     "data": {
      "text/html": [
       "<div>\n",
       "<style scoped>\n",
       "    .dataframe tbody tr th:only-of-type {\n",
       "        vertical-align: middle;\n",
       "    }\n",
       "\n",
       "    .dataframe tbody tr th {\n",
       "        vertical-align: top;\n",
       "    }\n",
       "\n",
       "    .dataframe thead th {\n",
       "        text-align: right;\n",
       "    }\n",
       "</style>\n",
       "<table border=\"1\" class=\"dataframe\">\n",
       "  <thead>\n",
       "    <tr style=\"text-align: right;\">\n",
       "      <th></th>\n",
       "      <th>total_bill</th>\n",
       "      <th>tip</th>\n",
       "      <th>sex</th>\n",
       "      <th>smoker</th>\n",
       "      <th>day</th>\n",
       "      <th>time</th>\n",
       "      <th>size</th>\n",
       "    </tr>\n",
       "  </thead>\n",
       "  <tbody>\n",
       "    <tr>\n",
       "      <th>0</th>\n",
       "      <td>16.99</td>\n",
       "      <td>1.01</td>\n",
       "      <td>Female</td>\n",
       "      <td>No</td>\n",
       "      <td>Sun</td>\n",
       "      <td>Dinner</td>\n",
       "      <td>2</td>\n",
       "    </tr>\n",
       "    <tr>\n",
       "      <th>1</th>\n",
       "      <td>10.34</td>\n",
       "      <td>1.66</td>\n",
       "      <td>Male</td>\n",
       "      <td>No</td>\n",
       "      <td>Sun</td>\n",
       "      <td>Dinner</td>\n",
       "      <td>3</td>\n",
       "    </tr>\n",
       "    <tr>\n",
       "      <th>2</th>\n",
       "      <td>21.01</td>\n",
       "      <td>3.50</td>\n",
       "      <td>Male</td>\n",
       "      <td>No</td>\n",
       "      <td>Sun</td>\n",
       "      <td>Dinner</td>\n",
       "      <td>3</td>\n",
       "    </tr>\n",
       "    <tr>\n",
       "      <th>3</th>\n",
       "      <td>23.68</td>\n",
       "      <td>3.31</td>\n",
       "      <td>Male</td>\n",
       "      <td>No</td>\n",
       "      <td>Sun</td>\n",
       "      <td>Dinner</td>\n",
       "      <td>2</td>\n",
       "    </tr>\n",
       "    <tr>\n",
       "      <th>4</th>\n",
       "      <td>24.59</td>\n",
       "      <td>3.61</td>\n",
       "      <td>Female</td>\n",
       "      <td>No</td>\n",
       "      <td>Sun</td>\n",
       "      <td>Dinner</td>\n",
       "      <td>4</td>\n",
       "    </tr>\n",
       "  </tbody>\n",
       "</table>\n",
       "</div>"
      ],
      "text/plain": [
       "   total_bill   tip     sex smoker  day    time  size\n",
       "0       16.99  1.01  Female     No  Sun  Dinner     2\n",
       "1       10.34  1.66    Male     No  Sun  Dinner     3\n",
       "2       21.01  3.50    Male     No  Sun  Dinner     3\n",
       "3       23.68  3.31    Male     No  Sun  Dinner     2\n",
       "4       24.59  3.61  Female     No  Sun  Dinner     4"
      ]
     },
     "execution_count": 21,
     "metadata": {},
     "output_type": "execute_result"
    }
   ],
   "source": [
    "df.head()"
   ]
  },
  {
   "cell_type": "code",
   "execution_count": 24,
   "id": "62e049c2-128c-4998-984f-bed63346de62",
   "metadata": {},
   "outputs": [
    {
     "name": "stdout",
     "output_type": "stream",
     "text": [
      "<class 'pandas.core.frame.DataFrame'>\n",
      "RangeIndex: 244 entries, 0 to 243\n",
      "Data columns (total 7 columns):\n",
      " #   Column      Non-Null Count  Dtype   \n",
      "---  ------      --------------  -----   \n",
      " 0   total_bill  244 non-null    float64 \n",
      " 1   tip         244 non-null    float64 \n",
      " 2   sex         244 non-null    int64   \n",
      " 3   smoker      244 non-null    category\n",
      " 4   day         244 non-null    category\n",
      " 5   time        244 non-null    category\n",
      " 6   size        244 non-null    int64   \n",
      "dtypes: category(3), float64(2), int64(2)\n",
      "memory usage: 8.9 KB\n"
     ]
    }
   ],
   "source": [
    "df.info()"
   ]
  },
  {
   "cell_type": "code",
   "execution_count": 25,
   "id": "d4a1b119-2065-46bf-98c9-3c8912caac16",
   "metadata": {},
   "outputs": [],
   "source": [
    "from sklearn.preprocessing import LabelEncoder"
   ]
  },
  {
   "cell_type": "code",
   "execution_count": 26,
   "id": "1554a86a-be01-41d9-8d6c-40e1de1ac687",
   "metadata": {},
   "outputs": [],
   "source": [
    "lbl=LabelEncoder()"
   ]
  },
  {
   "cell_type": "code",
   "execution_count": 27,
   "id": "f7107087-eed6-4b36-88e8-047c0022438c",
   "metadata": {},
   "outputs": [],
   "source": [
    "df[\"sex\"]=lbl.fit_transform(df[\"sex\"])\n",
    "df[\"smoker\"]=lbl.fit_transform(df[\"smoker\"])\n",
    "df[\"day\"]=lbl.fit_transform(df[\"day\"])\n",
    "df[\"time\"]=lbl.fit_transform(df[\"time\"])"
   ]
  },
  {
   "cell_type": "code",
   "execution_count": 28,
   "id": "4c7c3592-33f3-4a83-abeb-5a0829f4c2d6",
   "metadata": {},
   "outputs": [],
   "source": [
    "X=df.drop(\"total_bill\",axis=1)\n",
    "y=df[\"total_bill\"]"
   ]
  },
  {
   "cell_type": "code",
   "execution_count": 29,
   "id": "3b54d69a-6b5a-45ff-8054-4738f27a59c2",
   "metadata": {},
   "outputs": [],
   "source": [
    "from sklearn.model_selection import train_test_split"
   ]
  },
  {
   "cell_type": "code",
   "execution_count": 15,
   "id": "5220009c-3bdb-444d-9749-31e7183d605f",
   "metadata": {},
   "outputs": [],
   "source": [
    "X_train,X_test,y_train,y_test=train_test_split(X,y,test_size=0.30,random_state=42)"
   ]
  },
  {
   "cell_type": "code",
   "execution_count": 30,
   "id": "8a54089d-d9b8-42da-b52d-c768b5a002a0",
   "metadata": {},
   "outputs": [],
   "source": [
    "from sklearn.ensemble import GradientBoostingRegressor"
   ]
  },
  {
   "cell_type": "code",
   "execution_count": 31,
   "id": "0553aa44-2b30-4651-b209-752877aedc03",
   "metadata": {},
   "outputs": [],
   "source": [
    "GBC=GradientBoostingRegressor()"
   ]
  },
  {
   "cell_type": "code",
   "execution_count": 32,
   "id": "94ade1ef-4f4d-426c-a656-24118749d084",
   "metadata": {},
   "outputs": [
    {
     "data": {
      "text/html": [
       "<style>#sk-container-id-2 {color: black;background-color: white;}#sk-container-id-2 pre{padding: 0;}#sk-container-id-2 div.sk-toggleable {background-color: white;}#sk-container-id-2 label.sk-toggleable__label {cursor: pointer;display: block;width: 100%;margin-bottom: 0;padding: 0.3em;box-sizing: border-box;text-align: center;}#sk-container-id-2 label.sk-toggleable__label-arrow:before {content: \"▸\";float: left;margin-right: 0.25em;color: #696969;}#sk-container-id-2 label.sk-toggleable__label-arrow:hover:before {color: black;}#sk-container-id-2 div.sk-estimator:hover label.sk-toggleable__label-arrow:before {color: black;}#sk-container-id-2 div.sk-toggleable__content {max-height: 0;max-width: 0;overflow: hidden;text-align: left;background-color: #f0f8ff;}#sk-container-id-2 div.sk-toggleable__content pre {margin: 0.2em;color: black;border-radius: 0.25em;background-color: #f0f8ff;}#sk-container-id-2 input.sk-toggleable__control:checked~div.sk-toggleable__content {max-height: 200px;max-width: 100%;overflow: auto;}#sk-container-id-2 input.sk-toggleable__control:checked~label.sk-toggleable__label-arrow:before {content: \"▾\";}#sk-container-id-2 div.sk-estimator input.sk-toggleable__control:checked~label.sk-toggleable__label {background-color: #d4ebff;}#sk-container-id-2 div.sk-label input.sk-toggleable__control:checked~label.sk-toggleable__label {background-color: #d4ebff;}#sk-container-id-2 input.sk-hidden--visually {border: 0;clip: rect(1px 1px 1px 1px);clip: rect(1px, 1px, 1px, 1px);height: 1px;margin: -1px;overflow: hidden;padding: 0;position: absolute;width: 1px;}#sk-container-id-2 div.sk-estimator {font-family: monospace;background-color: #f0f8ff;border: 1px dotted black;border-radius: 0.25em;box-sizing: border-box;margin-bottom: 0.5em;}#sk-container-id-2 div.sk-estimator:hover {background-color: #d4ebff;}#sk-container-id-2 div.sk-parallel-item::after {content: \"\";width: 100%;border-bottom: 1px solid gray;flex-grow: 1;}#sk-container-id-2 div.sk-label:hover label.sk-toggleable__label {background-color: #d4ebff;}#sk-container-id-2 div.sk-serial::before {content: \"\";position: absolute;border-left: 1px solid gray;box-sizing: border-box;top: 0;bottom: 0;left: 50%;z-index: 0;}#sk-container-id-2 div.sk-serial {display: flex;flex-direction: column;align-items: center;background-color: white;padding-right: 0.2em;padding-left: 0.2em;position: relative;}#sk-container-id-2 div.sk-item {position: relative;z-index: 1;}#sk-container-id-2 div.sk-parallel {display: flex;align-items: stretch;justify-content: center;background-color: white;position: relative;}#sk-container-id-2 div.sk-item::before, #sk-container-id-2 div.sk-parallel-item::before {content: \"\";position: absolute;border-left: 1px solid gray;box-sizing: border-box;top: 0;bottom: 0;left: 50%;z-index: -1;}#sk-container-id-2 div.sk-parallel-item {display: flex;flex-direction: column;z-index: 1;position: relative;background-color: white;}#sk-container-id-2 div.sk-parallel-item:first-child::after {align-self: flex-end;width: 50%;}#sk-container-id-2 div.sk-parallel-item:last-child::after {align-self: flex-start;width: 50%;}#sk-container-id-2 div.sk-parallel-item:only-child::after {width: 0;}#sk-container-id-2 div.sk-dashed-wrapped {border: 1px dashed gray;margin: 0 0.4em 0.5em 0.4em;box-sizing: border-box;padding-bottom: 0.4em;background-color: white;}#sk-container-id-2 div.sk-label label {font-family: monospace;font-weight: bold;display: inline-block;line-height: 1.2em;}#sk-container-id-2 div.sk-label-container {text-align: center;}#sk-container-id-2 div.sk-container {/* jupyter's `normalize.less` sets `[hidden] { display: none; }` but bootstrap.min.css set `[hidden] { display: none !important; }` so we also need the `!important` here to be able to override the default hidden behavior on the sphinx rendered scikit-learn.org. See: https://github.com/scikit-learn/scikit-learn/issues/21755 */display: inline-block !important;position: relative;}#sk-container-id-2 div.sk-text-repr-fallback {display: none;}</style><div id=\"sk-container-id-2\" class=\"sk-top-container\"><div class=\"sk-text-repr-fallback\"><pre>GradientBoostingRegressor()</pre><b>In a Jupyter environment, please rerun this cell to show the HTML representation or trust the notebook. <br />On GitHub, the HTML representation is unable to render, please try loading this page with nbviewer.org.</b></div><div class=\"sk-container\" hidden><div class=\"sk-item\"><div class=\"sk-estimator sk-toggleable\"><input class=\"sk-toggleable__control sk-hidden--visually\" id=\"sk-estimator-id-2\" type=\"checkbox\" checked><label for=\"sk-estimator-id-2\" class=\"sk-toggleable__label sk-toggleable__label-arrow\">GradientBoostingRegressor</label><div class=\"sk-toggleable__content\"><pre>GradientBoostingRegressor()</pre></div></div></div></div></div>"
      ],
      "text/plain": [
       "GradientBoostingRegressor()"
      ]
     },
     "execution_count": 32,
     "metadata": {},
     "output_type": "execute_result"
    }
   ],
   "source": [
    "GBC.fit(X_train,y_train)"
   ]
  },
  {
   "cell_type": "code",
   "execution_count": 33,
   "id": "f343749a-ab9e-4ec6-bf2c-fd207d8ff75c",
   "metadata": {},
   "outputs": [],
   "source": [
    "y=GBC.predict(X_test)"
   ]
  },
  {
   "cell_type": "code",
   "execution_count": 34,
   "id": "e1edf99e-8b82-4cc8-809e-937128c27ab0",
   "metadata": {},
   "outputs": [],
   "source": [
    "from sklearn.metrics import r2_score,mean_absolute_error,mean_squared_error"
   ]
  },
  {
   "cell_type": "code",
   "execution_count": 35,
   "id": "6397f783-133d-4a9d-b799-7e82d04e88ee",
   "metadata": {},
   "outputs": [
    {
     "name": "stdout",
     "output_type": "stream",
     "text": [
      "r2_score 0.9887290811288316\n",
      "mean_absolute_error 0.037700091599628886\n",
      "mean_squared_error 0.007756990694769767\n"
     ]
    }
   ],
   "source": [
    "print(\"r2_score\",r2_score(y,y_test))\n",
    "print(\"mean_absolute_error\",mean_absolute_error(y,y_test))\n",
    "print(\"mean_squared_error\",mean_squared_error(y,y_test))"
   ]
  },
  {
   "cell_type": "markdown",
   "id": "e56c35da-8ff2-4f60-aac0-de0fe7231997",
   "metadata": {},
   "source": [
    "Q3. Experiment with different hyperparameters such as learning rate, number of trees, and tree depth to optimize the performance of the model. Use grid search or random search to find the best hyperparameters.\n"
   ]
  },
  {
   "cell_type": "code",
   "execution_count": 36,
   "id": "a95116fb-75a1-458c-be98-167f8f21d758",
   "metadata": {},
   "outputs": [],
   "source": [
    "param={\n",
    "    \"loss\":[\"squared_error\",\"absolute_error\",\"huber\",\"quantile\"],\n",
    "    \"learning_rate\":[0.1,0.2,0.3],\n",
    "    \"n_estimators\":[100,200,300],\n",
    "    \n",
    "}"
   ]
  },
  {
   "cell_type": "code",
   "execution_count": 37,
   "id": "eccbf7d3-bff0-43ca-b124-06323672c2dd",
   "metadata": {},
   "outputs": [],
   "source": [
    "from sklearn.model_selection import GridSearchCV"
   ]
  },
  {
   "cell_type": "code",
   "execution_count": 41,
   "id": "44023cbd-a7ca-42a2-b9eb-d0150924e1ca",
   "metadata": {},
   "outputs": [],
   "source": [
    "clf=GridSearchCV(GBC,param_grid=param,scoring=r2_score,cv=3,verbose=5)"
   ]
  },
  {
   "cell_type": "code",
   "execution_count": 44,
   "id": "ece09785-cb31-4900-aa95-203d481f7307",
   "metadata": {},
   "outputs": [],
   "source": [
    "import warnings\n",
    "warnings.filterwarnings(\"ignore\")"
   ]
  },
  {
   "cell_type": "code",
   "execution_count": 45,
   "id": "26cb580c-e641-47e0-8e75-c7f4eb9e1f2d",
   "metadata": {},
   "outputs": [
    {
     "name": "stdout",
     "output_type": "stream",
     "text": [
      "Fitting 3 folds for each of 36 candidates, totalling 108 fits\n",
      "[CV 1/3] END learning_rate=0.1, loss=squared_error, n_estimators=100;, score=nan total time=   0.1s\n",
      "[CV 2/3] END learning_rate=0.1, loss=squared_error, n_estimators=100;, score=nan total time=   0.1s\n",
      "[CV 3/3] END learning_rate=0.1, loss=squared_error, n_estimators=100;, score=nan total time=   0.1s\n",
      "[CV 1/3] END learning_rate=0.1, loss=squared_error, n_estimators=200;, score=nan total time=   0.1s\n",
      "[CV 2/3] END learning_rate=0.1, loss=squared_error, n_estimators=200;, score=nan total time=   0.1s\n",
      "[CV 3/3] END learning_rate=0.1, loss=squared_error, n_estimators=200;, score=nan total time=   0.1s\n",
      "[CV 1/3] END learning_rate=0.1, loss=squared_error, n_estimators=300;, score=nan total time=   0.2s\n",
      "[CV 2/3] END learning_rate=0.1, loss=squared_error, n_estimators=300;, score=nan total time=   0.2s\n",
      "[CV 3/3] END learning_rate=0.1, loss=squared_error, n_estimators=300;, score=nan total time=   0.2s\n",
      "[CV 1/3] END learning_rate=0.1, loss=absolute_error, n_estimators=100;, score=nan total time=   0.2s\n",
      "[CV 2/3] END learning_rate=0.1, loss=absolute_error, n_estimators=100;, score=nan total time=   0.2s\n",
      "[CV 3/3] END learning_rate=0.1, loss=absolute_error, n_estimators=100;, score=nan total time=   0.2s\n",
      "[CV 1/3] END learning_rate=0.1, loss=absolute_error, n_estimators=200;, score=nan total time=   0.4s\n",
      "[CV 2/3] END learning_rate=0.1, loss=absolute_error, n_estimators=200;, score=nan total time=   0.3s\n",
      "[CV 3/3] END learning_rate=0.1, loss=absolute_error, n_estimators=200;, score=nan total time=   0.4s\n",
      "[CV 1/3] END learning_rate=0.1, loss=absolute_error, n_estimators=300;, score=nan total time=   0.6s\n",
      "[CV 2/3] END learning_rate=0.1, loss=absolute_error, n_estimators=300;, score=nan total time=   0.5s\n",
      "[CV 3/3] END learning_rate=0.1, loss=absolute_error, n_estimators=300;, score=nan total time=   0.5s\n",
      "[CV 1/3] END learning_rate=0.1, loss=huber, n_estimators=100;, score=nan total time=   0.3s\n",
      "[CV 2/3] END learning_rate=0.1, loss=huber, n_estimators=100;, score=nan total time=   0.2s\n",
      "[CV 3/3] END learning_rate=0.1, loss=huber, n_estimators=100;, score=nan total time=   0.3s\n",
      "[CV 1/3] END learning_rate=0.1, loss=huber, n_estimators=200;, score=nan total time=   0.6s\n",
      "[CV 2/3] END learning_rate=0.1, loss=huber, n_estimators=200;, score=nan total time=   0.4s\n",
      "[CV 3/3] END learning_rate=0.1, loss=huber, n_estimators=200;, score=nan total time=   0.6s\n",
      "[CV 1/3] END learning_rate=0.1, loss=huber, n_estimators=300;, score=nan total time=   0.9s\n",
      "[CV 2/3] END learning_rate=0.1, loss=huber, n_estimators=300;, score=nan total time=   0.5s\n",
      "[CV 3/3] END learning_rate=0.1, loss=huber, n_estimators=300;, score=nan total time=   0.7s\n",
      "[CV 1/3] END learning_rate=0.1, loss=quantile, n_estimators=100;, score=nan total time=   0.1s\n",
      "[CV 2/3] END learning_rate=0.1, loss=quantile, n_estimators=100;, score=nan total time=   0.1s\n",
      "[CV 3/3] END learning_rate=0.1, loss=quantile, n_estimators=100;, score=nan total time=   0.1s\n",
      "[CV 1/3] END learning_rate=0.1, loss=quantile, n_estimators=200;, score=nan total time=   0.2s\n",
      "[CV 2/3] END learning_rate=0.1, loss=quantile, n_estimators=200;, score=nan total time=   0.2s\n",
      "[CV 3/3] END learning_rate=0.1, loss=quantile, n_estimators=200;, score=nan total time=   0.2s\n",
      "[CV 1/3] END learning_rate=0.1, loss=quantile, n_estimators=300;, score=nan total time=   0.3s\n",
      "[CV 2/3] END learning_rate=0.1, loss=quantile, n_estimators=300;, score=nan total time=   0.3s\n",
      "[CV 3/3] END learning_rate=0.1, loss=quantile, n_estimators=300;, score=nan total time=   0.3s\n",
      "[CV 1/3] END learning_rate=0.2, loss=squared_error, n_estimators=100;, score=nan total time=   0.1s\n",
      "[CV 2/3] END learning_rate=0.2, loss=squared_error, n_estimators=100;, score=nan total time=   0.1s\n",
      "[CV 3/3] END learning_rate=0.2, loss=squared_error, n_estimators=100;, score=nan total time=   0.1s\n",
      "[CV 1/3] END learning_rate=0.2, loss=squared_error, n_estimators=200;, score=nan total time=   0.1s\n",
      "[CV 2/3] END learning_rate=0.2, loss=squared_error, n_estimators=200;, score=nan total time=   0.1s\n",
      "[CV 3/3] END learning_rate=0.2, loss=squared_error, n_estimators=200;, score=nan total time=   0.1s\n",
      "[CV 1/3] END learning_rate=0.2, loss=squared_error, n_estimators=300;, score=nan total time=   0.2s\n",
      "[CV 2/3] END learning_rate=0.2, loss=squared_error, n_estimators=300;, score=nan total time=   0.2s\n",
      "[CV 3/3] END learning_rate=0.2, loss=squared_error, n_estimators=300;, score=nan total time=   0.2s\n",
      "[CV 1/3] END learning_rate=0.2, loss=absolute_error, n_estimators=100;, score=nan total time=   0.2s\n",
      "[CV 2/3] END learning_rate=0.2, loss=absolute_error, n_estimators=100;, score=nan total time=   0.1s\n",
      "[CV 3/3] END learning_rate=0.2, loss=absolute_error, n_estimators=100;, score=nan total time=   0.2s\n",
      "[CV 1/3] END learning_rate=0.2, loss=absolute_error, n_estimators=200;, score=nan total time=   0.4s\n",
      "[CV 2/3] END learning_rate=0.2, loss=absolute_error, n_estimators=200;, score=nan total time=   0.3s\n",
      "[CV 3/3] END learning_rate=0.2, loss=absolute_error, n_estimators=200;, score=nan total time=   0.4s\n",
      "[CV 1/3] END learning_rate=0.2, loss=absolute_error, n_estimators=300;, score=nan total time=   0.6s\n",
      "[CV 2/3] END learning_rate=0.2, loss=absolute_error, n_estimators=300;, score=nan total time=   0.4s\n",
      "[CV 3/3] END learning_rate=0.2, loss=absolute_error, n_estimators=300;, score=nan total time=   0.5s\n",
      "[CV 1/3] END learning_rate=0.2, loss=huber, n_estimators=100;, score=nan total time=   0.3s\n",
      "[CV 2/3] END learning_rate=0.2, loss=huber, n_estimators=100;, score=nan total time=   0.2s\n",
      "[CV 3/3] END learning_rate=0.2, loss=huber, n_estimators=100;, score=nan total time=   0.3s\n",
      "[CV 1/3] END learning_rate=0.2, loss=huber, n_estimators=200;, score=nan total time=   0.6s\n",
      "[CV 2/3] END learning_rate=0.2, loss=huber, n_estimators=200;, score=nan total time=   0.3s\n",
      "[CV 3/3] END learning_rate=0.2, loss=huber, n_estimators=200;, score=nan total time=   0.4s\n",
      "[CV 1/3] END learning_rate=0.2, loss=huber, n_estimators=300;, score=nan total time=   0.9s\n",
      "[CV 2/3] END learning_rate=0.2, loss=huber, n_estimators=300;, score=nan total time=   0.4s\n",
      "[CV 3/3] END learning_rate=0.2, loss=huber, n_estimators=300;, score=nan total time=   0.5s\n",
      "[CV 1/3] END learning_rate=0.2, loss=quantile, n_estimators=100;, score=nan total time=   0.1s\n",
      "[CV 2/3] END learning_rate=0.2, loss=quantile, n_estimators=100;, score=nan total time=   0.1s\n",
      "[CV 3/3] END learning_rate=0.2, loss=quantile, n_estimators=100;, score=nan total time=   0.1s\n",
      "[CV 1/3] END learning_rate=0.2, loss=quantile, n_estimators=200;, score=nan total time=   0.2s\n",
      "[CV 2/3] END learning_rate=0.2, loss=quantile, n_estimators=200;, score=nan total time=   0.2s\n",
      "[CV 3/3] END learning_rate=0.2, loss=quantile, n_estimators=200;, score=nan total time=   0.2s\n",
      "[CV 1/3] END learning_rate=0.2, loss=quantile, n_estimators=300;, score=nan total time=   0.3s\n",
      "[CV 2/3] END learning_rate=0.2, loss=quantile, n_estimators=300;, score=nan total time=   0.3s\n",
      "[CV 3/3] END learning_rate=0.2, loss=quantile, n_estimators=300;, score=nan total time=   0.3s\n",
      "[CV 1/3] END learning_rate=0.3, loss=squared_error, n_estimators=100;, score=nan total time=   0.1s\n",
      "[CV 2/3] END learning_rate=0.3, loss=squared_error, n_estimators=100;, score=nan total time=   0.1s\n",
      "[CV 3/3] END learning_rate=0.3, loss=squared_error, n_estimators=100;, score=nan total time=   0.1s\n",
      "[CV 1/3] END learning_rate=0.3, loss=squared_error, n_estimators=200;, score=nan total time=   0.1s\n",
      "[CV 2/3] END learning_rate=0.3, loss=squared_error, n_estimators=200;, score=nan total time=   0.1s\n",
      "[CV 3/3] END learning_rate=0.3, loss=squared_error, n_estimators=200;, score=nan total time=   0.1s\n",
      "[CV 1/3] END learning_rate=0.3, loss=squared_error, n_estimators=300;, score=nan total time=   0.2s\n",
      "[CV 2/3] END learning_rate=0.3, loss=squared_error, n_estimators=300;, score=nan total time=   0.2s\n",
      "[CV 3/3] END learning_rate=0.3, loss=squared_error, n_estimators=300;, score=nan total time=   0.2s\n",
      "[CV 1/3] END learning_rate=0.3, loss=absolute_error, n_estimators=100;, score=nan total time=   0.2s\n",
      "[CV 2/3] END learning_rate=0.3, loss=absolute_error, n_estimators=100;, score=nan total time=   0.1s\n",
      "[CV 3/3] END learning_rate=0.3, loss=absolute_error, n_estimators=100;, score=nan total time=   0.2s\n",
      "[CV 1/3] END learning_rate=0.3, loss=absolute_error, n_estimators=200;, score=nan total time=   0.4s\n",
      "[CV 2/3] END learning_rate=0.3, loss=absolute_error, n_estimators=200;, score=nan total time=   0.3s\n",
      "[CV 3/3] END learning_rate=0.3, loss=absolute_error, n_estimators=200;, score=nan total time=   0.4s\n",
      "[CV 1/3] END learning_rate=0.3, loss=absolute_error, n_estimators=300;, score=nan total time=   0.6s\n",
      "[CV 2/3] END learning_rate=0.3, loss=absolute_error, n_estimators=300;, score=nan total time=   0.4s\n",
      "[CV 3/3] END learning_rate=0.3, loss=absolute_error, n_estimators=300;, score=nan total time=   0.5s\n",
      "[CV 1/3] END learning_rate=0.3, loss=huber, n_estimators=100;, score=nan total time=   0.3s\n",
      "[CV 2/3] END learning_rate=0.3, loss=huber, n_estimators=100;, score=nan total time=   0.2s\n",
      "[CV 3/3] END learning_rate=0.3, loss=huber, n_estimators=100;, score=nan total time=   0.2s\n",
      "[CV 1/3] END learning_rate=0.3, loss=huber, n_estimators=200;, score=nan total time=   0.6s\n",
      "[CV 2/3] END learning_rate=0.3, loss=huber, n_estimators=200;, score=nan total time=   0.3s\n",
      "[CV 3/3] END learning_rate=0.3, loss=huber, n_estimators=200;, score=nan total time=   0.3s\n",
      "[CV 1/3] END learning_rate=0.3, loss=huber, n_estimators=300;, score=nan total time=   0.9s\n",
      "[CV 2/3] END learning_rate=0.3, loss=huber, n_estimators=300;, score=nan total time=   0.4s\n",
      "[CV 3/3] END learning_rate=0.3, loss=huber, n_estimators=300;, score=nan total time=   0.5s\n",
      "[CV 1/3] END learning_rate=0.3, loss=quantile, n_estimators=100;, score=nan total time=   0.1s\n",
      "[CV 2/3] END learning_rate=0.3, loss=quantile, n_estimators=100;, score=nan total time=   0.1s\n",
      "[CV 3/3] END learning_rate=0.3, loss=quantile, n_estimators=100;, score=nan total time=   0.1s\n",
      "[CV 1/3] END learning_rate=0.3, loss=quantile, n_estimators=200;, score=nan total time=   0.2s\n",
      "[CV 2/3] END learning_rate=0.3, loss=quantile, n_estimators=200;, score=nan total time=   0.2s\n",
      "[CV 3/3] END learning_rate=0.3, loss=quantile, n_estimators=200;, score=nan total time=   0.2s\n",
      "[CV 1/3] END learning_rate=0.3, loss=quantile, n_estimators=300;, score=nan total time=   0.3s\n",
      "[CV 2/3] END learning_rate=0.3, loss=quantile, n_estimators=300;, score=nan total time=   0.3s\n",
      "[CV 3/3] END learning_rate=0.3, loss=quantile, n_estimators=300;, score=nan total time=   0.3s\n"
     ]
    },
    {
     "data": {
      "text/html": [
       "<style>#sk-container-id-4 {color: black;background-color: white;}#sk-container-id-4 pre{padding: 0;}#sk-container-id-4 div.sk-toggleable {background-color: white;}#sk-container-id-4 label.sk-toggleable__label {cursor: pointer;display: block;width: 100%;margin-bottom: 0;padding: 0.3em;box-sizing: border-box;text-align: center;}#sk-container-id-4 label.sk-toggleable__label-arrow:before {content: \"▸\";float: left;margin-right: 0.25em;color: #696969;}#sk-container-id-4 label.sk-toggleable__label-arrow:hover:before {color: black;}#sk-container-id-4 div.sk-estimator:hover label.sk-toggleable__label-arrow:before {color: black;}#sk-container-id-4 div.sk-toggleable__content {max-height: 0;max-width: 0;overflow: hidden;text-align: left;background-color: #f0f8ff;}#sk-container-id-4 div.sk-toggleable__content pre {margin: 0.2em;color: black;border-radius: 0.25em;background-color: #f0f8ff;}#sk-container-id-4 input.sk-toggleable__control:checked~div.sk-toggleable__content {max-height: 200px;max-width: 100%;overflow: auto;}#sk-container-id-4 input.sk-toggleable__control:checked~label.sk-toggleable__label-arrow:before {content: \"▾\";}#sk-container-id-4 div.sk-estimator input.sk-toggleable__control:checked~label.sk-toggleable__label {background-color: #d4ebff;}#sk-container-id-4 div.sk-label input.sk-toggleable__control:checked~label.sk-toggleable__label {background-color: #d4ebff;}#sk-container-id-4 input.sk-hidden--visually {border: 0;clip: rect(1px 1px 1px 1px);clip: rect(1px, 1px, 1px, 1px);height: 1px;margin: -1px;overflow: hidden;padding: 0;position: absolute;width: 1px;}#sk-container-id-4 div.sk-estimator {font-family: monospace;background-color: #f0f8ff;border: 1px dotted black;border-radius: 0.25em;box-sizing: border-box;margin-bottom: 0.5em;}#sk-container-id-4 div.sk-estimator:hover {background-color: #d4ebff;}#sk-container-id-4 div.sk-parallel-item::after {content: \"\";width: 100%;border-bottom: 1px solid gray;flex-grow: 1;}#sk-container-id-4 div.sk-label:hover label.sk-toggleable__label {background-color: #d4ebff;}#sk-container-id-4 div.sk-serial::before {content: \"\";position: absolute;border-left: 1px solid gray;box-sizing: border-box;top: 0;bottom: 0;left: 50%;z-index: 0;}#sk-container-id-4 div.sk-serial {display: flex;flex-direction: column;align-items: center;background-color: white;padding-right: 0.2em;padding-left: 0.2em;position: relative;}#sk-container-id-4 div.sk-item {position: relative;z-index: 1;}#sk-container-id-4 div.sk-parallel {display: flex;align-items: stretch;justify-content: center;background-color: white;position: relative;}#sk-container-id-4 div.sk-item::before, #sk-container-id-4 div.sk-parallel-item::before {content: \"\";position: absolute;border-left: 1px solid gray;box-sizing: border-box;top: 0;bottom: 0;left: 50%;z-index: -1;}#sk-container-id-4 div.sk-parallel-item {display: flex;flex-direction: column;z-index: 1;position: relative;background-color: white;}#sk-container-id-4 div.sk-parallel-item:first-child::after {align-self: flex-end;width: 50%;}#sk-container-id-4 div.sk-parallel-item:last-child::after {align-self: flex-start;width: 50%;}#sk-container-id-4 div.sk-parallel-item:only-child::after {width: 0;}#sk-container-id-4 div.sk-dashed-wrapped {border: 1px dashed gray;margin: 0 0.4em 0.5em 0.4em;box-sizing: border-box;padding-bottom: 0.4em;background-color: white;}#sk-container-id-4 div.sk-label label {font-family: monospace;font-weight: bold;display: inline-block;line-height: 1.2em;}#sk-container-id-4 div.sk-label-container {text-align: center;}#sk-container-id-4 div.sk-container {/* jupyter's `normalize.less` sets `[hidden] { display: none; }` but bootstrap.min.css set `[hidden] { display: none !important; }` so we also need the `!important` here to be able to override the default hidden behavior on the sphinx rendered scikit-learn.org. See: https://github.com/scikit-learn/scikit-learn/issues/21755 */display: inline-block !important;position: relative;}#sk-container-id-4 div.sk-text-repr-fallback {display: none;}</style><div id=\"sk-container-id-4\" class=\"sk-top-container\"><div class=\"sk-text-repr-fallback\"><pre>GridSearchCV(cv=3, estimator=GradientBoostingRegressor(),\n",
       "             param_grid={&#x27;learning_rate&#x27;: [0.1, 0.2, 0.3],\n",
       "                         &#x27;loss&#x27;: [&#x27;squared_error&#x27;, &#x27;absolute_error&#x27;, &#x27;huber&#x27;,\n",
       "                                  &#x27;quantile&#x27;],\n",
       "                         &#x27;n_estimators&#x27;: [100, 200, 300]},\n",
       "             scoring=&lt;function r2_score at 0x7fcbc5090820&gt;, verbose=5)</pre><b>In a Jupyter environment, please rerun this cell to show the HTML representation or trust the notebook. <br />On GitHub, the HTML representation is unable to render, please try loading this page with nbviewer.org.</b></div><div class=\"sk-container\" hidden><div class=\"sk-item sk-dashed-wrapped\"><div class=\"sk-label-container\"><div class=\"sk-label sk-toggleable\"><input class=\"sk-toggleable__control sk-hidden--visually\" id=\"sk-estimator-id-6\" type=\"checkbox\" ><label for=\"sk-estimator-id-6\" class=\"sk-toggleable__label sk-toggleable__label-arrow\">GridSearchCV</label><div class=\"sk-toggleable__content\"><pre>GridSearchCV(cv=3, estimator=GradientBoostingRegressor(),\n",
       "             param_grid={&#x27;learning_rate&#x27;: [0.1, 0.2, 0.3],\n",
       "                         &#x27;loss&#x27;: [&#x27;squared_error&#x27;, &#x27;absolute_error&#x27;, &#x27;huber&#x27;,\n",
       "                                  &#x27;quantile&#x27;],\n",
       "                         &#x27;n_estimators&#x27;: [100, 200, 300]},\n",
       "             scoring=&lt;function r2_score at 0x7fcbc5090820&gt;, verbose=5)</pre></div></div></div><div class=\"sk-parallel\"><div class=\"sk-parallel-item\"><div class=\"sk-item\"><div class=\"sk-label-container\"><div class=\"sk-label sk-toggleable\"><input class=\"sk-toggleable__control sk-hidden--visually\" id=\"sk-estimator-id-7\" type=\"checkbox\" ><label for=\"sk-estimator-id-7\" class=\"sk-toggleable__label sk-toggleable__label-arrow\">estimator: GradientBoostingRegressor</label><div class=\"sk-toggleable__content\"><pre>GradientBoostingRegressor()</pre></div></div></div><div class=\"sk-serial\"><div class=\"sk-item\"><div class=\"sk-estimator sk-toggleable\"><input class=\"sk-toggleable__control sk-hidden--visually\" id=\"sk-estimator-id-8\" type=\"checkbox\" ><label for=\"sk-estimator-id-8\" class=\"sk-toggleable__label sk-toggleable__label-arrow\">GradientBoostingRegressor</label><div class=\"sk-toggleable__content\"><pre>GradientBoostingRegressor()</pre></div></div></div></div></div></div></div></div></div></div>"
      ],
      "text/plain": [
       "GridSearchCV(cv=3, estimator=GradientBoostingRegressor(),\n",
       "             param_grid={'learning_rate': [0.1, 0.2, 0.3],\n",
       "                         'loss': ['squared_error', 'absolute_error', 'huber',\n",
       "                                  'quantile'],\n",
       "                         'n_estimators': [100, 200, 300]},\n",
       "             scoring=<function r2_score at 0x7fcbc5090820>, verbose=5)"
      ]
     },
     "execution_count": 45,
     "metadata": {},
     "output_type": "execute_result"
    }
   ],
   "source": [
    "clf.fit(X_train,y_train)"
   ]
  },
  {
   "cell_type": "code",
   "execution_count": 46,
   "id": "7f24ea0e-0e94-466c-9753-d98f13e090a2",
   "metadata": {},
   "outputs": [
    {
     "data": {
      "text/plain": [
       "{'learning_rate': 0.1, 'loss': 'squared_error', 'n_estimators': 100}"
      ]
     },
     "execution_count": 46,
     "metadata": {},
     "output_type": "execute_result"
    }
   ],
   "source": [
    "clf.best_params_"
   ]
  },
  {
   "cell_type": "code",
   "execution_count": 47,
   "id": "93458789-b1a7-489b-b856-b20a24a1382f",
   "metadata": {},
   "outputs": [],
   "source": [
    "y_pred=clf.predict(X_test)"
   ]
  },
  {
   "cell_type": "code",
   "execution_count": 48,
   "id": "e45f19a9-9eae-451d-b3bc-a39c91d6cbba",
   "metadata": {},
   "outputs": [
    {
     "name": "stdout",
     "output_type": "stream",
     "text": [
      "r2_score 0.9889394919086069\n",
      "mean_absolute_error 0.03785790522740534\n",
      "mean_squared_error 0.007602494841732722\n"
     ]
    }
   ],
   "source": [
    "print(\"r2_score\",r2_score(y_pred,y_test))\n",
    "print(\"mean_absolute_error\",mean_absolute_error(y_pred,y_test))\n",
    "print(\"mean_squared_error\",mean_squared_error(y_pred,y_test))"
   ]
  },
  {
   "cell_type": "markdown",
   "id": "21772256-b5ec-4e48-b5b0-40a0c0e2d4dd",
   "metadata": {},
   "source": [
    "Q4. What is a weak learner in Gradient Boosting?\n",
    "\n",
    "\n",
    "    A weak learner in Gradient Boosting is a simple model, often a shallow decision tree, that performs slightly better than random guessing but is not highly accurate on its own. Weak learners are the building blocks of the ensemble in Gradient Boosting. The algorithm sequentially trains and combines these weak learners, with each one focused on the errors made by the previous ones, to create a strong and accurate predictive model.\n",
    "\n",
    "    \n",
    "    \n",
    "    \n",
    "Q5. What is the intuition behind the Gradient Boosting algorithm?\n",
    "\n",
    "\n",
    "\n",
    "    The intuition behind Gradient Boosting is to build a strong model by sequentially correcting the errors of previous models. It starts with a weak learner and iteratively adds new weak learners, each trained to capture the errors (residuals) of the ensemble's current prediction. This process effectively reduces the overall error and leads to a powerful predictive model.\n",
    "\n",
    "    \n",
    "    \n",
    "    \n",
    "Q6. How does the Gradient Boosting algorithm build an ensemble of weak learners?\n",
    "\n",
    "\n",
    "\n",
    "    Gradient Boosting builds an ensemble by training weak learners sequentially. It starts with an initial prediction (often the mean of the target values) and then adds weak learners that are trained to predict the errors (residuals) of the previous ensemble's predictions. These weak learners are combined, and the process continues until a predetermined number of iterations are reached or until performance plateaus.\n",
    "\n",
    "    \n",
    "    \n",
    "    \n",
    "Q7. What are the steps involved in constructing the mathematical intuition of the Gradient Boosting algorithm?\n",
    "\n",
    "\n",
    "\n",
    "    The mathematical intuition of Gradient Boosting involves several steps:\n",
    "     1. Initialize the model with a simple prediction (e.g., the mean of target values).\n",
    "     2. Calculate the residuals (errors) between the actual and initial predicted values.\n",
    "     3. Train a weak learner (e.g., decision tree) to predict these residuals.\n",
    "     4. Update the model by adding the predictions of the weak learner, scaled by a learning rate.\n",
    "     5. Repeat steps 24 to iteratively improve predictions and reduce residuals.\n",
    "     6. The final ensemble prediction is the sum of all individual weak learner predictions. This process minimizes the overall error and creates a robust model.\n",
    "\n"
   ]
  }
 ],
 "metadata": {
  "kernelspec": {
   "display_name": "Python 3 (ipykernel)",
   "language": "python",
   "name": "python3"
  },
  "language_info": {
   "codemirror_mode": {
    "name": "ipython",
    "version": 3
   },
   "file_extension": ".py",
   "mimetype": "text/x-python",
   "name": "python",
   "nbconvert_exporter": "python",
   "pygments_lexer": "ipython3",
   "version": "3.10.8"
  }
 },
 "nbformat": 4,
 "nbformat_minor": 5
}

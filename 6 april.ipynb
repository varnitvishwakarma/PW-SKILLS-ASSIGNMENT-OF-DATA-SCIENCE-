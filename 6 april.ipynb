{
 "cells": [
  {
   "cell_type": "markdown",
   "id": "2665fbe1-0136-42f7-8d4a-5d4b0fad1355",
   "metadata": {},
   "source": [
    "## 6 APRIL"
   ]
  },
  {
   "cell_type": "markdown",
   "id": "3df3e062-cac2-4e93-a3c6-db63aeb864ba",
   "metadata": {},
   "source": [
    "\n",
    "\n",
    "\n",
    "Q1. What is the mathematical formula for a linear SVM?"
   ]
  },
  {
   "cell_type": "markdown",
   "id": "d0c5b6ad-fdab-45e3-bb48-83f379cea53c",
   "metadata": {},
   "source": [
    "\n",
    "\n",
    "The mathematical formula for a linear Support Vector Machine (SVM) can be expressed as follows:\n",
    "\n",
    "yᵢ(wxᵢ + b) ≥ 1 for all data points (xᵢ, yᵢ)\n",
    "\n",
    "Here's an explanation of the formula:\n",
    "\n",
    "- yᵢ: This represents the label or class of the i-th data point. In binary classification, yᵢ can be either +1 or -1, indicating the two classes.\n",
    "\n",
    "- w: This is the weight vector. It determines the orientation of the hyperplane (decision boundary) that separates the classes.\n",
    "\n",
    "- xᵢ: This represents the feature vector of the i-th data point. It contains the features of the data used for classification.\n",
    "\n",
    "- b: This is the bias or intercept term. It shifts the hyperplane away from the origin.\n",
    "\n",
    "The formula essentially represents the constraints that a linear SVM optimization problem aims to satisfy:\n",
    "\n",
    "1. Correct Classification: For all data points, the product of the class label (yᵢ) and the dot product of the weight vector (w) and the feature vector (xᵢ) should be greater than or equal to 1. This means that each data point should be correctly classified on the correct side of the hyperplane.\n",
    "\n",
    "The goal of a linear SVM is to find the values of w and b that satisfy these constraints while maximizing the margin between the two classes. The margin is the perpendicular distance between the hyperplane and the closest data points (support vectors) from each class. This optimization problem is typically solved using techniques like quadratic programming to find the optimal hyperplane that maximizes this margin while ensuring correct classification."
   ]
  },
  {
   "cell_type": "markdown",
   "id": "56098c32-ec48-48f6-b571-c7a2dbc9a314",
   "metadata": {},
   "source": [
    "\n",
    "\n",
    "\n",
    "\n",
    "\n",
    "Q2. What is the objective function of a linear SVM?"
   ]
  },
  {
   "cell_type": "markdown",
   "id": "ce024871-9316-4300-a1bb-417012014d5e",
   "metadata": {},
   "source": [
    "\n",
    "\n",
    "The objective function of a linear Support Vector Machine (SVM) is formulated as follows:\n",
    "\n",
    "Minimize: 1/2 * ||w||²\n",
    "\n",
    "Subject to the constraints:\n",
    "\n",
    "- yᵢ(w ⋅ xᵢ + b) ≥ 1 for all training samples (for correct classification)\n",
    "\n",
    "Here's a breakdown of the components of the objective function:\n",
    "\n",
    "- Minimize: The goal is to minimize the value of the expression on the right-hand side.\n",
    "- 1/2 * ||w||²: This term represents a regularization or penalty term. It encourages the SVM to find a solution where the norm (magnitude) of the weight vector w is as small as possible. This helps in maximizing the margin while keeping the decision boundary well-defined.\n",
    "- ||w||² is the squared Euclidean norm (also known as the L2 norm) of the weight vector w.\n",
    "\n",
    "The constraints ensure that all training samples are correctly classified and lie on the correct side of the margin. Specifically:\n",
    "\n",
    "- yᵢ(w ⋅ xᵢ + b) ≥ 1 for all training samples (for correct classification): This constraint states that each data point should be correctly classified and positioned on the correct side of the decision boundary. The term yᵢ(w ⋅ xᵢ + b) represents the signed distance of each data point from the decision boundary. For correctly classified points, this distance should be greater than or equal to 1.\n",
    "\n",
    "The objective function of a linear SVM seeks to find the optimal values for the weight vector w and bias term b that define the hyperplane while simultaneously maximizing the margin between classes and ensuring correct classification of training data with a penalty for larger values of ||w||² to promote simplicity."
   ]
  },
  {
   "cell_type": "markdown",
   "id": "9cdfbdf2-e588-4ee8-834b-37173b21aa20",
   "metadata": {},
   "source": [
    "\n",
    "\n",
    "Q3. What is the kernel trick in SVM?"
   ]
  },
  {
   "cell_type": "markdown",
   "id": "e6cbf1f6-b9ad-4f85-ac56-779aecf3b5d9",
   "metadata": {},
   "source": [
    "\n",
    "\n",
    "The kernel trick is a fundamental concept in Support Vector Machines (SVMs) that allows SVMs to handle non-linearly separable data by implicitly mapping the input data into a higher-dimensional feature space. Instead of explicitly calculating and transforming the data into this higher-dimensional space, the kernel trick allows SVMs to compute the dot products between data points in this space efficiently. This is done through the use of kernel functions.\n",
    "\n",
    "The basic idea of the kernel trick can be explained as follows:\n",
    "\n",
    "1. Non-Linear Separability: In many real-world problems, data points may not be linearly separable in their original feature space. That is, a simple linear hyperplane cannot effectively separate the data into distinct classes.\n",
    "\n",
    "2. Mapping to Higher Dimensions: To make the data linearly separable, the kernel trick implicitly maps the data from its original feature space to a higher-dimensional feature space where it might become linearly separable. This mapping is done without explicitly calculating the transformed feature vectors, which can be computationally expensive or even impossible in some cases when the dimensionality becomes very high.\n",
    "\n",
    "3. Kernel Functions: The key to the kernel trick is the use of kernel functions, denoted as K(xᵢ, xⱼ), which compute the dot product between the transformed feature vectors in the higher-dimensional space efficiently, without explicitly calculating those vectors. Common kernel functions include the linear kernel, polynomial kernel, and radial basis function (RBF) kernel.\n",
    "\n",
    "   - Linear Kernel: K(xᵢ, xⱼ) = xᵢ ⋅ xⱼ (no transformation, same as the original feature space).\n",
    "   - Polynomial Kernel: K(xᵢ, xⱼ) = (xᵢ ⋅ xⱼ + c)ᵈ, where c and d are kernel parameters.\n",
    "   - RBF (Gaussian) Kernel: K(xᵢ, xⱼ) = exp(-γ * ||xᵢ - xⱼ||²), where γ is a kernel parameter.\n",
    "\n",
    "4. Efficient Classification: By using kernel functions, SVMs can efficiently compute the dot products between data points in the higher-dimensional space, which allows them to find the optimal hyperplane that separates the data without explicitly transforming the data into that space. This makes SVMs well-suited for handling non-linearly separable data and complex decision boundaries.\n",
    "\n",
    "The kernel trick in SVMs enables them to handle non-linearly separable data by implicitly mapping the data into a higher-dimensional space through kernel functions. This approach allows SVMs to find linear decision boundaries in the transformed space without the need to compute and store the transformed feature vectors explicitly, making it a powerful tool for various machine learning tasks.\n",
    "\n",
    "\n",
    "\n"
   ]
  },
  {
   "cell_type": "markdown",
   "id": "2a2d380f-3b0c-41b4-839a-ff1585341cde",
   "metadata": {},
   "source": [
    "## Q4. What is the role of support vectors in SVM Explain with an example?\n",
    "\n",
    "\n"
   ]
  },
  {
   "cell_type": "markdown",
   "id": "436644e8-2a3d-4252-a130-c8d5eac85824",
   "metadata": {},
   "source": [
    "Support vectors play a crucial role in Support Vector Machines (SVMs). They are the data points from the training dataset that are closest to the decision boundary (hyperplane). These points are called \"support vectors\" because they provide critical support in defining the position and orientation of the hyperplane. Here's an explanation with an example:\n",
    "\n",
    "Consider a binary classification problem where you have two classes, Class A (represented by red points) and Class B (represented by blue points), in a 2D feature space. Your task is to find the optimal hyperplane that separates these two classes.\n",
    "\n",
    "1. Defining the Hyperplane: The hyperplane in an SVM is determined by the support vectors. It's the hyperplane that maximizes the margin (distance) between the two classes while correctly classifying these crucial support vectors.\n",
    "\n",
    "2. Margin Calculation: The margin of the SVM is the distance between the hyperplane and the closest support vectors from each class. These support vectors are the ones that dictate how wide the margin can be.\n",
    "\n",
    "3. Robustness: Support vectors are the most challenging data points to classify correctly. They are the ones that are either very close to the decision boundary or may even be misclassified. By focusing on these critical points, the SVM aims to achieve robust generalization to unseen data.\n"
   ]
  },
  {
   "cell_type": "markdown",
   "id": "be4d6006-1658-460d-8611-aa8a926b573c",
   "metadata": {},
   "source": [
    "## Q5. Illustrate with examples and graphs of Hyperplane, Marginal plane, Soft margin and Hard margin in SVM?\n",
    "\n",
    "\n"
   ]
  },
  {
   "cell_type": "markdown",
   "id": "1fc25727-20bc-4c7b-a655-a18e0bd5ec29",
   "metadata": {},
   "source": [
    "1. Hyperplane:\n",
    "   - A hyperplane is a decision boundary that separates data into different classes.\n",
    "   - In a 2D space, it's a straight line; in 3D, it's a flat plane; and in higher dimensions, it's a hyperplane.\n",
    "   - The goal is to find the optimal hyperplane that maximizes the margin between classes.\n",
    "\n",
    "   Example : In a binary classification problem, the hyperplane could be a line that separates two classes.\n",
    "\n",
    "2. Marginal Plane:\n",
    "   - The marginal plane is the region that lies parallel to the hyperplane and is at a fixed distance (the margin) from it.\n",
    "   - It includes data points that are closest to the hyperplane and is used to define the margin.\n",
    "\n",
    "   Example : If you have a margin of 2 units, the marginal planes would be parallel lines 2 units away from the hyperplane on both sides.\n",
    "\n",
    "3. Hard Margin:\n",
    "   - In a Hard Margin SVM, there is no tolerance for misclassified points.\n",
    "   - It seeks a hyperplane that perfectly separates all data points, and the margin between classes is maximized.\n",
    "   - It's suitable for linearly separable data with no noise.\n",
    "\n",
    "   Example : A Hard Margin SVM finds a hyperplane that perfectly separates the data with the maximum margin. There are no data points inside the margin.\n",
    "\n",
    "4. Soft Margin:\n",
    "   - In a Soft Margin SVM, some tolerance is allowed for misclassified points.\n",
    "   - It seeks a hyperplane with a wider margin, allowing for some classification errors to handle noisy or overlapping data.\n",
    "   - It's suitable for non-linearly separable data or situations where perfect separation is not feasible.\n",
    "\n",
    "   Example : A Soft Margin SVM allows for a wider margin with a few misclassified points inside the margin. This improves robustness to noisy data.\n",
    "\n",
    "\n",
    " \n"
   ]
  },
  {
   "cell_type": "markdown",
   "id": "5d310079-4b5d-4d16-a3fd-b920fa38af25",
   "metadata": {},
   "source": [
    "## Q6. SVM Implementation through Iris dataset ?"
   ]
  },
  {
   "cell_type": "code",
   "execution_count": 62,
   "id": "46236720-c972-4a32-a132-08d4d91f4e48",
   "metadata": {},
   "outputs": [],
   "source": [
    "import pandas as pd \n",
    "import numpy as np \n",
    "import seaborn as sns\n",
    "import matplotlib.pyplot as plt"
   ]
  },
  {
   "cell_type": "markdown",
   "id": "d70ec747-64fe-4a4f-9b43-cd0db5a9fa5d",
   "metadata": {},
   "source": [
    " Load the iris dataset from the scikit-learn library and split it into a training set and a testing set"
   ]
  },
  {
   "cell_type": "code",
   "execution_count": 63,
   "id": "8522adae-e124-4b71-bfde-9e13d9af0781",
   "metadata": {},
   "outputs": [],
   "source": [
    "from sklearn.datasets import load_iris"
   ]
  },
  {
   "cell_type": "code",
   "execution_count": 64,
   "id": "5dfcc62b-fc29-4593-a4c2-225edb6ce468",
   "metadata": {},
   "outputs": [],
   "source": [
    "df=load_iris()"
   ]
  },
  {
   "cell_type": "code",
   "execution_count": 65,
   "id": "249b8567-b5a6-4ced-9c4e-2f1834cef247",
   "metadata": {},
   "outputs": [],
   "source": [
    "X=pd.DataFrame(df.data,columns=df.feature_names)"
   ]
  },
  {
   "cell_type": "code",
   "execution_count": 66,
   "id": "84e906fc-5b18-463f-9c76-63cc189f3a58",
   "metadata": {},
   "outputs": [],
   "source": [
    "y=pd.DataFrame(df.target,columns=[\"target\"])"
   ]
  },
  {
   "cell_type": "code",
   "execution_count": 67,
   "id": "a292f39b-04a4-4a65-86dc-650096544730",
   "metadata": {},
   "outputs": [],
   "source": [
    "from sklearn.model_selection import train_test_split"
   ]
  },
  {
   "cell_type": "code",
   "execution_count": 68,
   "id": "a9969d97-bbcd-4b78-aee1-ef7e9bd0b307",
   "metadata": {},
   "outputs": [],
   "source": [
    "X_train,X_test,y_train,y_test=train_test_split(X,y,test_size=0.33,random_state=42)"
   ]
  },
  {
   "cell_type": "markdown",
   "id": "c04817fd-e729-4f83-b7ab-3da123ba48b8",
   "metadata": {},
   "source": [
    " Train a linear SVM classifier on the training set and predict the labels for the testing set"
   ]
  },
  {
   "cell_type": "code",
   "execution_count": 69,
   "id": "e178b9cd-c52f-4b12-a6c4-d99997038d83",
   "metadata": {},
   "outputs": [],
   "source": [
    "from sklearn.svm import SVC\n",
    "import warnings\n",
    "warnings.filterwarnings(\"ignore\")"
   ]
  },
  {
   "cell_type": "code",
   "execution_count": 70,
   "id": "79c7bc56-9dd8-4587-a184-2b581b07807b",
   "metadata": {},
   "outputs": [],
   "source": [
    "svc=SVC(kernel=\"linear\")"
   ]
  },
  {
   "cell_type": "code",
   "execution_count": 71,
   "id": "d2961661-40ac-48a7-8dc4-735403fe1a07",
   "metadata": {},
   "outputs": [
    {
     "data": {
      "text/html": [
       "<style>#sk-container-id-4 {color: black;background-color: white;}#sk-container-id-4 pre{padding: 0;}#sk-container-id-4 div.sk-toggleable {background-color: white;}#sk-container-id-4 label.sk-toggleable__label {cursor: pointer;display: block;width: 100%;margin-bottom: 0;padding: 0.3em;box-sizing: border-box;text-align: center;}#sk-container-id-4 label.sk-toggleable__label-arrow:before {content: \"▸\";float: left;margin-right: 0.25em;color: #696969;}#sk-container-id-4 label.sk-toggleable__label-arrow:hover:before {color: black;}#sk-container-id-4 div.sk-estimator:hover label.sk-toggleable__label-arrow:before {color: black;}#sk-container-id-4 div.sk-toggleable__content {max-height: 0;max-width: 0;overflow: hidden;text-align: left;background-color: #f0f8ff;}#sk-container-id-4 div.sk-toggleable__content pre {margin: 0.2em;color: black;border-radius: 0.25em;background-color: #f0f8ff;}#sk-container-id-4 input.sk-toggleable__control:checked~div.sk-toggleable__content {max-height: 200px;max-width: 100%;overflow: auto;}#sk-container-id-4 input.sk-toggleable__control:checked~label.sk-toggleable__label-arrow:before {content: \"▾\";}#sk-container-id-4 div.sk-estimator input.sk-toggleable__control:checked~label.sk-toggleable__label {background-color: #d4ebff;}#sk-container-id-4 div.sk-label input.sk-toggleable__control:checked~label.sk-toggleable__label {background-color: #d4ebff;}#sk-container-id-4 input.sk-hidden--visually {border: 0;clip: rect(1px 1px 1px 1px);clip: rect(1px, 1px, 1px, 1px);height: 1px;margin: -1px;overflow: hidden;padding: 0;position: absolute;width: 1px;}#sk-container-id-4 div.sk-estimator {font-family: monospace;background-color: #f0f8ff;border: 1px dotted black;border-radius: 0.25em;box-sizing: border-box;margin-bottom: 0.5em;}#sk-container-id-4 div.sk-estimator:hover {background-color: #d4ebff;}#sk-container-id-4 div.sk-parallel-item::after {content: \"\";width: 100%;border-bottom: 1px solid gray;flex-grow: 1;}#sk-container-id-4 div.sk-label:hover label.sk-toggleable__label {background-color: #d4ebff;}#sk-container-id-4 div.sk-serial::before {content: \"\";position: absolute;border-left: 1px solid gray;box-sizing: border-box;top: 0;bottom: 0;left: 50%;z-index: 0;}#sk-container-id-4 div.sk-serial {display: flex;flex-direction: column;align-items: center;background-color: white;padding-right: 0.2em;padding-left: 0.2em;position: relative;}#sk-container-id-4 div.sk-item {position: relative;z-index: 1;}#sk-container-id-4 div.sk-parallel {display: flex;align-items: stretch;justify-content: center;background-color: white;position: relative;}#sk-container-id-4 div.sk-item::before, #sk-container-id-4 div.sk-parallel-item::before {content: \"\";position: absolute;border-left: 1px solid gray;box-sizing: border-box;top: 0;bottom: 0;left: 50%;z-index: -1;}#sk-container-id-4 div.sk-parallel-item {display: flex;flex-direction: column;z-index: 1;position: relative;background-color: white;}#sk-container-id-4 div.sk-parallel-item:first-child::after {align-self: flex-end;width: 50%;}#sk-container-id-4 div.sk-parallel-item:last-child::after {align-self: flex-start;width: 50%;}#sk-container-id-4 div.sk-parallel-item:only-child::after {width: 0;}#sk-container-id-4 div.sk-dashed-wrapped {border: 1px dashed gray;margin: 0 0.4em 0.5em 0.4em;box-sizing: border-box;padding-bottom: 0.4em;background-color: white;}#sk-container-id-4 div.sk-label label {font-family: monospace;font-weight: bold;display: inline-block;line-height: 1.2em;}#sk-container-id-4 div.sk-label-container {text-align: center;}#sk-container-id-4 div.sk-container {/* jupyter's `normalize.less` sets `[hidden] { display: none; }` but bootstrap.min.css set `[hidden] { display: none !important; }` so we also need the `!important` here to be able to override the default hidden behavior on the sphinx rendered scikit-learn.org. See: https://github.com/scikit-learn/scikit-learn/issues/21755 */display: inline-block !important;position: relative;}#sk-container-id-4 div.sk-text-repr-fallback {display: none;}</style><div id=\"sk-container-id-4\" class=\"sk-top-container\"><div class=\"sk-text-repr-fallback\"><pre>SVC(kernel=&#x27;linear&#x27;)</pre><b>In a Jupyter environment, please rerun this cell to show the HTML representation or trust the notebook. <br />On GitHub, the HTML representation is unable to render, please try loading this page with nbviewer.org.</b></div><div class=\"sk-container\" hidden><div class=\"sk-item\"><div class=\"sk-estimator sk-toggleable\"><input class=\"sk-toggleable__control sk-hidden--visually\" id=\"sk-estimator-id-4\" type=\"checkbox\" checked><label for=\"sk-estimator-id-4\" class=\"sk-toggleable__label sk-toggleable__label-arrow\">SVC</label><div class=\"sk-toggleable__content\"><pre>SVC(kernel=&#x27;linear&#x27;)</pre></div></div></div></div></div>"
      ],
      "text/plain": [
       "SVC(kernel='linear')"
      ]
     },
     "execution_count": 71,
     "metadata": {},
     "output_type": "execute_result"
    }
   ],
   "source": [
    "svc.fit(X_train,y_train)"
   ]
  },
  {
   "cell_type": "code",
   "execution_count": 72,
   "id": "3432ada4-5a1c-43d1-86ae-6800dfc87da3",
   "metadata": {},
   "outputs": [],
   "source": [
    "y_predict=svc.predict(X_test)"
   ]
  },
  {
   "cell_type": "markdown",
   "id": "a0c9cb00-972c-4189-9892-f9494561a90d",
   "metadata": {},
   "source": [
    "Compute the accuracy of the model on the testing setl"
   ]
  },
  {
   "cell_type": "code",
   "execution_count": 73,
   "id": "b068c24f-e73e-4ac9-88f6-2d25ed8aad0d",
   "metadata": {},
   "outputs": [],
   "source": [
    "from sklearn.metrics import accuracy_score"
   ]
  },
  {
   "cell_type": "code",
   "execution_count": 74,
   "id": "e9b35cef-0b7a-4eb0-94df-b94fb430f692",
   "metadata": {},
   "outputs": [
    {
     "name": "stdout",
     "output_type": "stream",
     "text": [
      "100.0 %\n"
     ]
    }
   ],
   "source": [
    "print(accuracy_score(y_predict,y_test)*100,\"%\")"
   ]
  },
  {
   "cell_type": "markdown",
   "id": "fa83c586-af9a-410e-a29e-cec5a2465d01",
   "metadata": {},
   "source": [
    "Plot the decision boundaries of the trained model using two of the features"
   ]
  },
  {
   "cell_type": "code",
   "execution_count": 59,
   "id": "172938c1-18bf-4827-8e65-6358905f584c",
   "metadata": {},
   "outputs": [
    {
     "data": {
      "image/png": "[encoded data removed]",
      "text/plain": [
       "<Figure size 640x480 with 1 Axes>"
      ]
     },
     "metadata": {},
     "output_type": "display_data"
    }
   ],
   "source": [
    "import pandas as pd\n",
    "import numpy as np\n",
    "import seaborn as sns\n",
    "import matplotlib.pyplot as plt\n",
    "from sklearn.datasets import load_iris\n",
    "from sklearn.model_selection import train_test_split\n",
    "from sklearn.svm import SVC\n",
    "import warnings\n",
    "\n",
    "warnings.filterwarnings(\"ignore\")\n",
    "\n",
    "df = load_iris()\n",
    "X = pd.DataFrame(df.data, columns=df.feature_names)\n",
    "y = pd.DataFrame(df.target, columns=[\"target\"])\n",
    "\n",
    "\n",
    "feature1 = \"sepal length (cm)\"\n",
    "feature2 = \"sepal width (cm)\"\n",
    "\n",
    "X_train, X_test, y_train, y_test = train_test_split(X[[feature1, feature2]], y, test_size=0.33, random_state=42)\n",
    "\n",
    "\n",
    "svc = SVC(kernel=\"linear\")\n",
    "svc.fit(X_train, y_train)\n",
    "\n",
    "x_min, x_max = X[feature1].min() - 1, X[feature1].max() + 1\n",
    "y_min, y_max = X[feature2].min() - 1, X[feature2].max() + 1\n",
    "\n",
    "xx, yy = np.meshgrid(np.arange(x_min, x_max, 0.01),\n",
    "                     np.arange(y_min, y_max, 0.01))\n",
    "\n",
    "Z = svc.predict(np.c_[xx.ravel(), yy.ravel()])\n",
    "Z = Z.reshape(xx.shape)\n",
    "\n",
    "plt.contourf(xx, yy, Z, alpha=0.8, cmap=plt.cm.RdYlBu)\n",
    "sns.scatterplot(x=X[feature1], y=X[feature2], hue=y[\"target\"], palette=\"Set1\")\n",
    "plt.xlabel(feature1)\n",
    "plt.ylabel(feature2)\n",
    "plt.title(\"SVM Decision Boundaries with {} and {}\".format(feature1, feature2))\n",
    "plt.show()\n"
   ]
  },
  {
   "cell_type": "markdown",
   "id": "23bbf18e-01e8-48ea-87c7-42e126ea48ee",
   "metadata": {},
   "source": [
    "Try different values of the regularisation parameter C and see how it affects the performance of\n",
    "the model."
   ]
  },
  {
   "cell_type": "markdown",
   "id": "2dc3ee2a-78a2-482a-9672-2930afbc675e",
   "metadata": {},
   "source": [
    "when C = 2 "
   ]
  },
  {
   "cell_type": "code",
   "execution_count": 88,
   "id": "267b2ab2-1e2c-46f7-98bf-acdb1d1ef022",
   "metadata": {},
   "outputs": [],
   "source": [
    "new_model=SVC(kernel=\"linear\",C=2)"
   ]
  },
  {
   "cell_type": "code",
   "execution_count": 89,
   "id": "b60c43c6-f215-431a-a2e1-ae2e83f3a19d",
   "metadata": {},
   "outputs": [
    {
     "data": {
      "text/html": [
       "<style>#sk-container-id-9 {color: black;background-color: white;}#sk-container-id-9 pre{padding: 0;}#sk-container-id-9 div.sk-toggleable {background-color: white;}#sk-container-id-9 label.sk-toggleable__label {cursor: pointer;display: block;width: 100%;margin-bottom: 0;padding: 0.3em;box-sizing: border-box;text-align: center;}#sk-container-id-9 label.sk-toggleable__label-arrow:before {content: \"▸\";float: left;margin-right: 0.25em;color: #696969;}#sk-container-id-9 label.sk-toggleable__label-arrow:hover:before {color: black;}#sk-container-id-9 div.sk-estimator:hover label.sk-toggleable__label-arrow:before {color: black;}#sk-container-id-9 div.sk-toggleable__content {max-height: 0;max-width: 0;overflow: hidden;text-align: left;background-color: #f0f8ff;}#sk-container-id-9 div.sk-toggleable__content pre {margin: 0.2em;color: black;border-radius: 0.25em;background-color: #f0f8ff;}#sk-container-id-9 input.sk-toggleable__control:checked~div.sk-toggleable__content {max-height: 200px;max-width: 100%;overflow: auto;}#sk-container-id-9 input.sk-toggleable__control:checked~label.sk-toggleable__label-arrow:before {content: \"▾\";}#sk-container-id-9 div.sk-estimator input.sk-toggleable__control:checked~label.sk-toggleable__label {background-color: #d4ebff;}#sk-container-id-9 div.sk-label input.sk-toggleable__control:checked~label.sk-toggleable__label {background-color: #d4ebff;}#sk-container-id-9 input.sk-hidden--visually {border: 0;clip: rect(1px 1px 1px 1px);clip: rect(1px, 1px, 1px, 1px);height: 1px;margin: -1px;overflow: hidden;padding: 0;position: absolute;width: 1px;}#sk-container-id-9 div.sk-estimator {font-family: monospace;background-color: #f0f8ff;border: 1px dotted black;border-radius: 0.25em;box-sizing: border-box;margin-bottom: 0.5em;}#sk-container-id-9 div.sk-estimator:hover {background-color: #d4ebff;}#sk-container-id-9 div.sk-parallel-item::after {content: \"\";width: 100%;border-bottom: 1px solid gray;flex-grow: 1;}#sk-container-id-9 div.sk-label:hover label.sk-toggleable__label {background-color: #d4ebff;}#sk-container-id-9 div.sk-serial::before {content: \"\";position: absolute;border-left: 1px solid gray;box-sizing: border-box;top: 0;bottom: 0;left: 50%;z-index: 0;}#sk-container-id-9 div.sk-serial {display: flex;flex-direction: column;align-items: center;background-color: white;padding-right: 0.2em;padding-left: 0.2em;position: relative;}#sk-container-id-9 div.sk-item {position: relative;z-index: 1;}#sk-container-id-9 div.sk-parallel {display: flex;align-items: stretch;justify-content: center;background-color: white;position: relative;}#sk-container-id-9 div.sk-item::before, #sk-container-id-9 div.sk-parallel-item::before {content: \"\";position: absolute;border-left: 1px solid gray;box-sizing: border-box;top: 0;bottom: 0;left: 50%;z-index: -1;}#sk-container-id-9 div.sk-parallel-item {display: flex;flex-direction: column;z-index: 1;position: relative;background-color: white;}#sk-container-id-9 div.sk-parallel-item:first-child::after {align-self: flex-end;width: 50%;}#sk-container-id-9 div.sk-parallel-item:last-child::after {align-self: flex-start;width: 50%;}#sk-container-id-9 div.sk-parallel-item:only-child::after {width: 0;}#sk-container-id-9 div.sk-dashed-wrapped {border: 1px dashed gray;margin: 0 0.4em 0.5em 0.4em;box-sizing: border-box;padding-bottom: 0.4em;background-color: white;}#sk-container-id-9 div.sk-label label {font-family: monospace;font-weight: bold;display: inline-block;line-height: 1.2em;}#sk-container-id-9 div.sk-label-container {text-align: center;}#sk-container-id-9 div.sk-container {/* jupyter's `normalize.less` sets `[hidden] { display: none; }` but bootstrap.min.css set `[hidden] { display: none !important; }` so we also need the `!important` here to be able to override the default hidden behavior on the sphinx rendered scikit-learn.org. See: https://github.com/scikit-learn/scikit-learn/issues/21755 */display: inline-block !important;position: relative;}#sk-container-id-9 div.sk-text-repr-fallback {display: none;}</style><div id=\"sk-container-id-9\" class=\"sk-top-container\"><div class=\"sk-text-repr-fallback\"><pre>SVC(C=2, kernel=&#x27;linear&#x27;)</pre><b>In a Jupyter environment, please rerun this cell to show the HTML representation or trust the notebook. <br />On GitHub, the HTML representation is unable to render, please try loading this page with nbviewer.org.</b></div><div class=\"sk-container\" hidden><div class=\"sk-item\"><div class=\"sk-estimator sk-toggleable\"><input class=\"sk-toggleable__control sk-hidden--visually\" id=\"sk-estimator-id-9\" type=\"checkbox\" checked><label for=\"sk-estimator-id-9\" class=\"sk-toggleable__label sk-toggleable__label-arrow\">SVC</label><div class=\"sk-toggleable__content\"><pre>SVC(C=2, kernel=&#x27;linear&#x27;)</pre></div></div></div></div></div>"
      ],
      "text/plain": [
       "SVC(C=2, kernel='linear')"
      ]
     },
     "execution_count": 89,
     "metadata": {},
     "output_type": "execute_result"
    }
   ],
   "source": [
    "new_model.fit(X_train,y_train)"
   ]
  },
  {
   "cell_type": "code",
   "execution_count": 90,
   "id": "a0e2fc7f-30d7-40c2-b734-c051d0ef152a",
   "metadata": {},
   "outputs": [],
   "source": [
    "y=new_model.predict(X_test)"
   ]
  },
  {
   "cell_type": "code",
   "execution_count": 91,
   "id": "8b62d8f2-8abd-419d-bbca-0683ff9ccd30",
   "metadata": {},
   "outputs": [
    {
     "data": {
      "text/plain": [
       "1.0"
      ]
     },
     "execution_count": 91,
     "metadata": {},
     "output_type": "execute_result"
    }
   ],
   "source": [
    "accuracy_score(y,y_test)"
   ]
  },
  {
   "cell_type": "markdown",
   "id": "7126e5cd-7a6d-455b-b661-5c33e14d5b6c",
   "metadata": {},
   "source": [
    "when c = 10"
   ]
  },
  {
   "cell_type": "code",
   "execution_count": 92,
   "id": "b7f83e9d-d5a3-4f07-bd87-10bb2d14bb1e",
   "metadata": {},
   "outputs": [],
   "source": [
    "new_model_2=SVC(kernel=\"linear\",C=10)"
   ]
  },
  {
   "cell_type": "code",
   "execution_count": 94,
   "id": "95ad956b-8e96-4501-9eab-1301856647ca",
   "metadata": {},
   "outputs": [
    {
     "data": {
      "text/html": [
       "<style>#sk-container-id-11 {color: black;background-color: white;}#sk-container-id-11 pre{padding: 0;}#sk-container-id-11 div.sk-toggleable {background-color: white;}#sk-container-id-11 label.sk-toggleable__label {cursor: pointer;display: block;width: 100%;margin-bottom: 0;padding: 0.3em;box-sizing: border-box;text-align: center;}#sk-container-id-11 label.sk-toggleable__label-arrow:before {content: \"▸\";float: left;margin-right: 0.25em;color: #696969;}#sk-container-id-11 label.sk-toggleable__label-arrow:hover:before {color: black;}#sk-container-id-11 div.sk-estimator:hover label.sk-toggleable__label-arrow:before {color: black;}#sk-container-id-11 div.sk-toggleable__content {max-height: 0;max-width: 0;overflow: hidden;text-align: left;background-color: #f0f8ff;}#sk-container-id-11 div.sk-toggleable__content pre {margin: 0.2em;color: black;border-radius: 0.25em;background-color: #f0f8ff;}#sk-container-id-11 input.sk-toggleable__control:checked~div.sk-toggleable__content {max-height: 200px;max-width: 100%;overflow: auto;}#sk-container-id-11 input.sk-toggleable__control:checked~label.sk-toggleable__label-arrow:before {content: \"▾\";}#sk-container-id-11 div.sk-estimator input.sk-toggleable__control:checked~label.sk-toggleable__label {background-color: #d4ebff;}#sk-container-id-11 div.sk-label input.sk-toggleable__control:checked~label.sk-toggleable__label {background-color: #d4ebff;}#sk-container-id-11 input.sk-hidden--visually {border: 0;clip: rect(1px 1px 1px 1px);clip: rect(1px, 1px, 1px, 1px);height: 1px;margin: -1px;overflow: hidden;padding: 0;position: absolute;width: 1px;}#sk-container-id-11 div.sk-estimator {font-family: monospace;background-color: #f0f8ff;border: 1px dotted black;border-radius: 0.25em;box-sizing: border-box;margin-bottom: 0.5em;}#sk-container-id-11 div.sk-estimator:hover {background-color: #d4ebff;}#sk-container-id-11 div.sk-parallel-item::after {content: \"\";width: 100%;border-bottom: 1px solid gray;flex-grow: 1;}#sk-container-id-11 div.sk-label:hover label.sk-toggleable__label {background-color: #d4ebff;}#sk-container-id-11 div.sk-serial::before {content: \"\";position: absolute;border-left: 1px solid gray;box-sizing: border-box;top: 0;bottom: 0;left: 50%;z-index: 0;}#sk-container-id-11 div.sk-serial {display: flex;flex-direction: column;align-items: center;background-color: white;padding-right: 0.2em;padding-left: 0.2em;position: relative;}#sk-container-id-11 div.sk-item {position: relative;z-index: 1;}#sk-container-id-11 div.sk-parallel {display: flex;align-items: stretch;justify-content: center;background-color: white;position: relative;}#sk-container-id-11 div.sk-item::before, #sk-container-id-11 div.sk-parallel-item::before {content: \"\";position: absolute;border-left: 1px solid gray;box-sizing: border-box;top: 0;bottom: 0;left: 50%;z-index: -1;}#sk-container-id-11 div.sk-parallel-item {display: flex;flex-direction: column;z-index: 1;position: relative;background-color: white;}#sk-container-id-11 div.sk-parallel-item:first-child::after {align-self: flex-end;width: 50%;}#sk-container-id-11 div.sk-parallel-item:last-child::after {align-self: flex-start;width: 50%;}#sk-container-id-11 div.sk-parallel-item:only-child::after {width: 0;}#sk-container-id-11 div.sk-dashed-wrapped {border: 1px dashed gray;margin: 0 0.4em 0.5em 0.4em;box-sizing: border-box;padding-bottom: 0.4em;background-color: white;}#sk-container-id-11 div.sk-label label {font-family: monospace;font-weight: bold;display: inline-block;line-height: 1.2em;}#sk-container-id-11 div.sk-label-container {text-align: center;}#sk-container-id-11 div.sk-container {/* jupyter's `normalize.less` sets `[hidden] { display: none; }` but bootstrap.min.css set `[hidden] { display: none !important; }` so we also need the `!important` here to be able to override the default hidden behavior on the sphinx rendered scikit-learn.org. See: https://github.com/scikit-learn/scikit-learn/issues/21755 */display: inline-block !important;position: relative;}#sk-container-id-11 div.sk-text-repr-fallback {display: none;}</style><div id=\"sk-container-id-11\" class=\"sk-top-container\"><div class=\"sk-text-repr-fallback\"><pre>SVC(C=10, kernel=&#x27;linear&#x27;)</pre><b>In a Jupyter environment, please rerun this cell to show the HTML representation or trust the notebook. <br />On GitHub, the HTML representation is unable to render, please try loading this page with nbviewer.org.</b></div><div class=\"sk-container\" hidden><div class=\"sk-item\"><div class=\"sk-estimator sk-toggleable\"><input class=\"sk-toggleable__control sk-hidden--visually\" id=\"sk-estimator-id-11\" type=\"checkbox\" checked><label for=\"sk-estimator-id-11\" class=\"sk-toggleable__label sk-toggleable__label-arrow\">SVC</label><div class=\"sk-toggleable__content\"><pre>SVC(C=10, kernel=&#x27;linear&#x27;)</pre></div></div></div></div></div>"
      ],
      "text/plain": [
       "SVC(C=10, kernel='linear')"
      ]
     },
     "execution_count": 94,
     "metadata": {},
     "output_type": "execute_result"
    }
   ],
   "source": [
    "new_model_2.fit(X_train,y_train)"
   ]
  },
  {
   "cell_type": "code",
   "execution_count": 97,
   "id": "7bb29c9d-b587-4860-94c8-92fe54c163c6",
   "metadata": {},
   "outputs": [],
   "source": [
    "y_new=new_model_2.predict(X_test)"
   ]
  },
  {
   "cell_type": "code",
   "execution_count": 98,
   "id": "05f4acb6-f56d-4b63-8973-9be09fd37b00",
   "metadata": {},
   "outputs": [
    {
     "data": {
      "text/plain": [
       "1.0"
      ]
     },
     "execution_count": 98,
     "metadata": {},
     "output_type": "execute_result"
    }
   ],
   "source": [
    "accuracy_score(y_new,y_test)"
   ]
  },
  {
   "cell_type": "markdown",
   "id": "7f78a01c-6128-4d8a-b789-49ced8e2ce28",
   "metadata": {},
   "source": [
    "there is no effect on model when i change the value of C in this case "
   ]
  },
  {
   "cell_type": "code",
   "execution_count": null,
   "id": "e751cf1b-ff20-4e86-a395-d8765cce7445",
   "metadata": {},
   "outputs": [],
   "source": []
  }
 ],
 "metadata": {
  "kernelspec": {
   "display_name": "Python 3 (ipykernel)",
   "language": "python",
   "name": "python3"
  },
  "language_info": {
   "codemirror_mode": {
    "name": "ipython",
    "version": 3
   },
   "file_extension": ".py",
   "mimetype": "text/x-python",
   "name": "python",
   "nbconvert_exporter": "python",
   "pygments_lexer": "ipython3",
   "version": "3.10.8"
  }
 },
 "nbformat": 4,
 "nbformat_minor": 5
}

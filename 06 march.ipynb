{
 "cells": [
  {
   "cell_type": "markdown",
   "id": "4a966ca7-f788-4cb1-9f00-cb1a54be06d5",
   "metadata": {},
   "source": [
    "What is Statistics?"
   ]
  },
  {
   "cell_type": "raw",
   "id": "99404c86-de70-4ce4-bdb9-a4ced139a111",
   "metadata": {},
   "source": [
    "statistics is the science of collecting , organizing and analyzing data "
   ]
  },
  {
   "cell_type": "markdown",
   "id": "1f2ff8c4-64d8-4142-a807-0089ad6227ba",
   "metadata": {},
   "source": [
    " Define the different types of statistics and give an example of when each type might be used."
   ]
  },
  {
   "cell_type": "raw",
   "id": "c70d77da-d9c9-42c6-8da9-31b53987028e",
   "metadata": {},
   "source": [
    "There are two types of statistics \n",
    "\n",
    "1). descriptive statistics \n",
    "\n",
    "-> It consists of organizing and summarizing data\n",
    "\n",
    "ex:- it is used to find mean , mode , median , measure of dispersion \n",
    "\n",
    "2). inferntial statistics \n",
    "\n",
    "-> It consists of using data you have measured to form conclusion \n",
    "\n",
    "ex-:it is used for comparing the parameters of two or more samples and makes generalizations about the larger population based on these samples"
   ]
  },
  {
   "cell_type": "markdown",
   "id": "a571eae1-0354-4ab3-a134-a1e626cc78aa",
   "metadata": {},
   "source": [
    "What are the different types of data and how do they differ from each other? Provide an example of\n",
    "each type of data."
   ]
  },
  {
   "cell_type": "raw",
   "id": "d67a0603-f3dc-4874-96f6-ab8adb03f51a",
   "metadata": {},
   "source": [
    "There are you type of data \n",
    "\n",
    "1) quantitaive data \n",
    "\n",
    "a). discrete data\n",
    "ex:- no of children in family.\n",
    "\n",
    "b) continous data \n",
    "ex:- weight, height \n",
    "\n",
    "2) qualitative data \n",
    "\n",
    "a) nominal data \n",
    "ex:- gender,pincode\n",
    "\n",
    "b) ordinal data\n",
    "ex:- good , bad , first "
   ]
  },
  {
   "cell_type": "markdown",
   "id": "bbfd8142-6222-4c53-9b2e-ab7dd920b2d6",
   "metadata": {},
   "source": [
    "Categorise the following datasets with respect to quantitative and qualitative data types:"
   ]
  },
  {
   "cell_type": "raw",
   "id": "19466f8d-6e7f-4027-a705-e84fa357c366",
   "metadata": {},
   "source": [
    "(i) Grading in exam: A+, A, B+, B, C+, C, D, E\n",
    "Ans- qualitative data \n",
    "\n",
    "(ii) Colour of mangoes: yellow, green, orange, red\n",
    "Ans- qualitative data \n",
    "\n",
    "(iii) Height data of a class: [178.9, 179, 179.5, 176, 177.2, 178.3, 175.8,...]\n",
    "Ans- quantitaive data \n",
    "\n",
    "(iv) Number of mangoes exported by a farm: [500, 600, 478, 672, ...]\n",
    "Ans- quantitaive data "
   ]
  },
  {
   "cell_type": "markdown",
   "id": "66338cfa-3336-4ba0-8911-69ce441aba6d",
   "metadata": {},
   "source": [
    "Explain the concept of levels of measurement and give an example of a variable for each level."
   ]
  },
  {
   "cell_type": "raw",
   "id": "d68162cf-9d73-43bb-8e23-03cda09981c5",
   "metadata": {},
   "source": [
    "1). nominal scale data \n",
    "\n",
    "ex:- gender , colors \n",
    "\n",
    "2). ordinal scale data \n",
    "\n",
    "ex:- rank,first,best\n",
    "\n",
    "3). interval scale data \n",
    "\n",
    "ex:-temprature , differnce can measure \n",
    "\n",
    "4). radio scale data \n",
    "\n",
    "ex:- marks of students , ratio can be measure "
   ]
  },
  {
   "cell_type": "markdown",
   "id": "9875fc04-8754-469b-a3b6-f9a879274916",
   "metadata": {},
   "source": [
    "Why is it important to understand the level of measurement when analyzing data? Provide an\n",
    "example to illustrate your answer"
   ]
  },
  {
   "cell_type": "raw",
   "id": "1b210a30-a125-4adc-92a3-3638a05ac104",
   "metadata": {},
   "source": [
    "Understanding the level of measurement is crucial because it determines the appropriate statistical analyses and interpretations. For example, nominal data cannot be used for calculations but can indicate categories like gender."
   ]
  },
  {
   "cell_type": "markdown",
   "id": "0eb1d30d-98e6-4f87-831b-5c03f59833c4",
   "metadata": {},
   "source": [
    "How nominal data type is different from ordinal data type."
   ]
  },
  {
   "cell_type": "raw",
   "id": "89155543-77c4-40ff-976d-c31f176e5733",
   "metadata": {},
   "source": [
    "Nominal data represents categories without any inherent order, while ordinal data has a specific ranking or order."
   ]
  },
  {
   "cell_type": "markdown",
   "id": "f0db16bc-4b95-46f8-b4d9-bac4959cf843",
   "metadata": {},
   "source": [
    "Which type of plot can be used to display data in terms of range?"
   ]
  },
  {
   "cell_type": "raw",
   "id": "29ac5cd5-a66f-4275-a07f-2ea1fc721948",
   "metadata": {},
   "source": [
    "A box plot, also known as a box-and-whisker plot, can be used to display data in terms of range."
   ]
  },
  {
   "cell_type": "markdown",
   "id": "b6b45c9a-50b8-49d2-97d5-2449c4335b2e",
   "metadata": {},
   "source": [
    "Describe the difference between descriptive and inferential statistics. Give an example of each\n",
    "type of statistics and explain how they are used."
   ]
  },
  {
   "cell_type": "raw",
   "id": "bf2d3743-6516-48eb-a5c9-37ff9d4c963b",
   "metadata": {},
   "source": [
    "Descriptive statistics aims to summarize and describe data, while inferential statistics focuses on making inferences and drawing conclusions about populations based on sample data.\n",
    "\n",
    "ex:- \n",
    "Descriptive: Calculating the average age of employees in a company.\n",
    "\n",
    "Inferential: Testing if there is a significant difference in customer satisfaction between two product groups."
   ]
  },
  {
   "cell_type": "markdown",
   "id": "afa5da8c-3d14-4eae-9b2a-5297ecdd2571",
   "metadata": {},
   "source": [
    "What are some common measures of central tendency and variability used in statistics? Explain\n",
    "how each measure can be used to describe a dataset."
   ]
  },
  {
   "cell_type": "raw",
   "id": "42f1c8cb-249d-49c6-ab51-9d328616d1a2",
   "metadata": {},
   "source": [
    "Measures of Central Tendency \n",
    "\n",
    "1"
   ]
  }
 ],
 "metadata": {
  "kernelspec": {
   "display_name": "Python 3 (ipykernel)",
   "language": "python",
   "name": "python3"
  },
  "language_info": {
   "codemirror_mode": {
    "name": "ipython",
    "version": 3
   },
   "file_extension": ".py",
   "mimetype": "text/x-python",
   "name": "python",
   "nbconvert_exporter": "python",
   "pygments_lexer": "ipython3",
   "version": "3.10.8"
  }
 },
 "nbformat": 4,
 "nbformat_minor": 5
}
